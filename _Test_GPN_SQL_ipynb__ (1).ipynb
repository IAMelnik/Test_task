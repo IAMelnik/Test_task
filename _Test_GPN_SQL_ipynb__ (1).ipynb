{
  "nbformat": 4,
  "nbformat_minor": 0,
  "metadata": {
    "colab": {
      "name": "\"Test_GPN_SQL.ipynb\"\"",
      "provenance": [],
      "collapsed_sections": []
    },
    "kernelspec": {
      "name": "python3",
      "display_name": "Python 3"
    },
    "language_info": {
      "name": "python"
    }
  },
  "cells": [
    {
      "cell_type": "markdown",
      "metadata": {
        "id": "A4z8QyVDCc2K"
      },
      "source": [
        "#Тестовое GPN по SQL"
      ]
    },
    {
      "cell_type": "markdown",
      "metadata": {
        "id": "cu8pf8b4l6EZ"
      },
      "source": [
        "# 1. \n",
        "\n",
        "Задача состоит в том, чтобы составить полную таблицу (представление), в которой были бы явно приведены правила окраски и маркировки каждой из известных по первой таблице моделей охранного оборудования"
      ]
    },
    {
      "cell_type": "markdown",
      "metadata": {
        "id": "cyz1xt_aTI57"
      },
      "source": [
        "## Решение"
      ]
    },
    {
      "cell_type": "markdown",
      "metadata": {
        "id": "xlerul7DtWdC"
      },
      "source": [
        "```sql\n",
        "SELECT equipment.part_id, \n",
        "            CASE WHEN equip_color.paint_color IS NULL THEN \n",
        "                        (SELECT paint_color FROM equip_color WHERE part_id IS NULL) \n",
        "                        ELSE equip_color.paint_color END AS paint_color, \n",
        "            CASE WHEN equip_color.decal_color IS NULL THEN \n",
        "                        (SELECT decal_color FROM equip_color WHERE part_id IS NULL) \n",
        "                        ELSE equip_color.decal_color END AS decal_color\n",
        "FROM equipment\n",
        "LEFT JOIN equip_color USING(part_id);\n",
        "```"
      ]
    },
    {
      "cell_type": "markdown",
      "metadata": {
        "id": "kRYwHV96sm8h"
      },
      "source": [
        "# 2. \n",
        "\n",
        "Дана таблица сотрудников компании, где имя, фамилия и отчество находятся в отдельных полях. Требуется найти наиболее часто повторяющееся имя или имена (если сразу несколько имён встречаются одинаковое число раз)."
      ]
    },
    {
      "cell_type": "markdown",
      "metadata": {
        "id": "ma39NtlHsznO"
      },
      "source": [
        "## Решение"
      ]
    },
    {
      "cell_type": "markdown",
      "metadata": {
        "id": "N7LpR0q0s2-S"
      },
      "source": [
        "```sql\n",
        "WITH t AS \n",
        "        (SELECT first_name, COUNT(first_name) AS cnt_name \n",
        "        FROM employee \n",
        "        GROUP BY first_name)\n",
        "SELECT *\n",
        "FROM t\n",
        "GROUP BY first_name\n",
        "HAVING cnt_name = (SELECT MAX(cnt_name) FROM t)\n",
        "ORDER BY first_name;\n",
        "```"
      ]
    },
    {
      "cell_type": "markdown",
      "metadata": {
        "id": "ycAn5ej1tHPW"
      },
      "source": [
        "# 3. \n",
        "\n",
        "Представьте, что есть некая иерархическая структура должностей. На них можно назначать/увольнять сотрудников. Набор необходимых таблиц и полей представлен в файле «Tables».\n",
        "\n",
        "Также, сотрудники могут отсутствовать: отпуск, болезнь, командировка и т.п. - для простоты пусть будет произвольный текст. Интервалы могут пересекаться. Необходимые поля/таблицы опять же, на ваше усмотрение. Напишите:\n",
        "\n",
        "1. запрос, выводящий ближайшего подчиненного (заместителя). Если их несколько, взять того, кто дольше работает на своей должности.\n",
        "\n",
        "2. запрос, выводящий для указанной должности ближайшего активного (работающего в офисе) начальника. Более сложный вариант: на указанную дату.\n",
        "\n",
        "3. запрос, выводящий список всех доступных (не отсутствующих) подчиненных указанного начальника. Более сложный вариант: на указанную дату.\n",
        "\n",
        "Будет плюсом, если в качестве дополнительного задания вы напишете:\n",
        "\n",
        "5. запрос, подсчитывающий число рабочих дней в указанный промежуток [дата с, дата по] для всех сотрудников, работавших в этот период хотя бы один день.\n",
        "\n",
        "6. и/или количество дней (можно календарных), разбитых по колонками \"в офисе\", \"в отпуске\", \"в командировке\", \"болел\" и т.д. (количество и названия заранее не известны - это данные из п.3-4)"
      ]
    },
    {
      "cell_type": "markdown",
      "metadata": {
        "id": "3fNP_l6kvS5c"
      },
      "source": [
        "## Решение"
      ]
    },
    {
      "cell_type": "markdown",
      "metadata": {
        "id": "R6HnvPBRvDuz"
      },
      "source": [
        "Пример общей таблицы:"
      ]
    },
    {
      "cell_type": "code",
      "metadata": {
        "colab": {
          "base_uri": "https://localhost:8080/",
          "height": 491
        },
        "id": "BP5e_Adddj-b",
        "outputId": "28fb2eaa-ae41-4e3d-ce5b-9dc015d025d6"
      },
      "source": [
        "stat_emp"
      ],
      "execution_count": null,
      "outputs": [
        {
          "output_type": "execute_result",
          "data": {
            "text/html": [
              "<div>\n",
              "<style scoped>\n",
              "    .dataframe tbody tr th:only-of-type {\n",
              "        vertical-align: middle;\n",
              "    }\n",
              "\n",
              "    .dataframe tbody tr th {\n",
              "        vertical-align: top;\n",
              "    }\n",
              "\n",
              "    .dataframe thead th {\n",
              "        text-align: right;\n",
              "    }\n",
              "</style>\n",
              "<table border=\"1\" class=\"dataframe\">\n",
              "  <thead>\n",
              "    <tr style=\"text-align: right;\">\n",
              "      <th></th>\n",
              "      <th>current_date</th>\n",
              "      <th>id_emp</th>\n",
              "      <th>name_emp</th>\n",
              "      <th>cheif_id</th>\n",
              "      <th>start_work</th>\n",
              "      <th>end_work</th>\n",
              "      <th>id_stat</th>\n",
              "      <th>start_stat_date</th>\n",
              "      <th>end_stat_date</th>\n",
              "      <th>name_stat</th>\n",
              "    </tr>\n",
              "  </thead>\n",
              "  <tbody>\n",
              "    <tr>\n",
              "      <th>0</th>\n",
              "      <td>2021-08-01</td>\n",
              "      <td>1</td>\n",
              "      <td>Александр</td>\n",
              "      <td>NaN</td>\n",
              "      <td>2021-01-01</td>\n",
              "      <td>NaT</td>\n",
              "      <td>1</td>\n",
              "      <td>2021-07-01</td>\n",
              "      <td>NaT</td>\n",
              "      <td>в офисе</td>\n",
              "    </tr>\n",
              "    <tr>\n",
              "      <th>1</th>\n",
              "      <td>2021-08-02</td>\n",
              "      <td>2</td>\n",
              "      <td>Владимир</td>\n",
              "      <td>1.0</td>\n",
              "      <td>2021-01-11</td>\n",
              "      <td>NaT</td>\n",
              "      <td>2</td>\n",
              "      <td>2021-07-04</td>\n",
              "      <td>2021-07-11</td>\n",
              "      <td>болен</td>\n",
              "    </tr>\n",
              "    <tr>\n",
              "      <th>2</th>\n",
              "      <td>2021-08-03</td>\n",
              "      <td>3</td>\n",
              "      <td>Ольга</td>\n",
              "      <td>2.0</td>\n",
              "      <td>2021-01-21</td>\n",
              "      <td>NaT</td>\n",
              "      <td>3</td>\n",
              "      <td>2021-07-07</td>\n",
              "      <td>2021-07-17</td>\n",
              "      <td>в отпуске</td>\n",
              "    </tr>\n",
              "    <tr>\n",
              "      <th>3</th>\n",
              "      <td>2021-08-04</td>\n",
              "      <td>4</td>\n",
              "      <td>Николай</td>\n",
              "      <td>NaN</td>\n",
              "      <td>2021-01-31</td>\n",
              "      <td>NaT</td>\n",
              "      <td>1</td>\n",
              "      <td>2021-07-10</td>\n",
              "      <td>NaT</td>\n",
              "      <td>в офисе</td>\n",
              "    </tr>\n",
              "    <tr>\n",
              "      <th>4</th>\n",
              "      <td>2021-08-05</td>\n",
              "      <td>5</td>\n",
              "      <td>Светлана</td>\n",
              "      <td>3.0</td>\n",
              "      <td>2021-02-10</td>\n",
              "      <td>NaT</td>\n",
              "      <td>2</td>\n",
              "      <td>2021-07-13</td>\n",
              "      <td>2021-07-20</td>\n",
              "      <td>болен</td>\n",
              "    </tr>\n",
              "    <tr>\n",
              "      <th>5</th>\n",
              "      <td>2021-08-06</td>\n",
              "      <td>6</td>\n",
              "      <td>Виктор</td>\n",
              "      <td>1.0</td>\n",
              "      <td>2021-02-20</td>\n",
              "      <td>NaT</td>\n",
              "      <td>3</td>\n",
              "      <td>2021-07-16</td>\n",
              "      <td>2021-07-26</td>\n",
              "      <td>в отпуске</td>\n",
              "    </tr>\n",
              "    <tr>\n",
              "      <th>6</th>\n",
              "      <td>2021-08-07</td>\n",
              "      <td>7</td>\n",
              "      <td>Дмитрий</td>\n",
              "      <td>1.0</td>\n",
              "      <td>2021-03-02</td>\n",
              "      <td>NaT</td>\n",
              "      <td>3</td>\n",
              "      <td>2021-07-19</td>\n",
              "      <td>2021-07-29</td>\n",
              "      <td>в отпуске</td>\n",
              "    </tr>\n",
              "    <tr>\n",
              "      <th>7</th>\n",
              "      <td>2021-08-08</td>\n",
              "      <td>8</td>\n",
              "      <td>Антон</td>\n",
              "      <td>2.0</td>\n",
              "      <td>2021-03-12</td>\n",
              "      <td>2021-05-21</td>\n",
              "      <td>3</td>\n",
              "      <td>2021-07-22</td>\n",
              "      <td>2021-08-01</td>\n",
              "      <td>в отпуске</td>\n",
              "    </tr>\n",
              "    <tr>\n",
              "      <th>8</th>\n",
              "      <td>2021-08-09</td>\n",
              "      <td>9</td>\n",
              "      <td>Валерий</td>\n",
              "      <td>15.0</td>\n",
              "      <td>2021-03-22</td>\n",
              "      <td>NaT</td>\n",
              "      <td>1</td>\n",
              "      <td>2021-07-25</td>\n",
              "      <td>NaT</td>\n",
              "      <td>в офисе</td>\n",
              "    </tr>\n",
              "    <tr>\n",
              "      <th>9</th>\n",
              "      <td>2021-08-10</td>\n",
              "      <td>10</td>\n",
              "      <td>Роман</td>\n",
              "      <td>1.0</td>\n",
              "      <td>2021-04-01</td>\n",
              "      <td>2021-06-10</td>\n",
              "      <td>2</td>\n",
              "      <td>2021-07-28</td>\n",
              "      <td>2021-08-04</td>\n",
              "      <td>болен</td>\n",
              "    </tr>\n",
              "    <tr>\n",
              "      <th>10</th>\n",
              "      <td>2021-08-11</td>\n",
              "      <td>11</td>\n",
              "      <td>Андрей</td>\n",
              "      <td>1.0</td>\n",
              "      <td>2021-04-11</td>\n",
              "      <td>NaT</td>\n",
              "      <td>3</td>\n",
              "      <td>2021-07-31</td>\n",
              "      <td>2021-08-10</td>\n",
              "      <td>в отпуске</td>\n",
              "    </tr>\n",
              "    <tr>\n",
              "      <th>11</th>\n",
              "      <td>2021-08-12</td>\n",
              "      <td>12</td>\n",
              "      <td>Ирина</td>\n",
              "      <td>2.0</td>\n",
              "      <td>2021-04-21</td>\n",
              "      <td>2021-06-30</td>\n",
              "      <td>1</td>\n",
              "      <td>2021-08-03</td>\n",
              "      <td>NaT</td>\n",
              "      <td>в офисе</td>\n",
              "    </tr>\n",
              "    <tr>\n",
              "      <th>12</th>\n",
              "      <td>2021-08-13</td>\n",
              "      <td>13</td>\n",
              "      <td>Анна</td>\n",
              "      <td>3.0</td>\n",
              "      <td>2021-05-01</td>\n",
              "      <td>NaT</td>\n",
              "      <td>1</td>\n",
              "      <td>2021-08-06</td>\n",
              "      <td>NaT</td>\n",
              "      <td>в офисе</td>\n",
              "    </tr>\n",
              "    <tr>\n",
              "      <th>13</th>\n",
              "      <td>2021-08-14</td>\n",
              "      <td>14</td>\n",
              "      <td>Оксана</td>\n",
              "      <td>4.0</td>\n",
              "      <td>2021-05-11</td>\n",
              "      <td>NaT</td>\n",
              "      <td>2</td>\n",
              "      <td>2021-08-09</td>\n",
              "      <td>NaT</td>\n",
              "      <td>болен</td>\n",
              "    </tr>\n",
              "    <tr>\n",
              "      <th>14</th>\n",
              "      <td>2021-08-15</td>\n",
              "      <td>15</td>\n",
              "      <td>Тимур</td>\n",
              "      <td>5.0</td>\n",
              "      <td>2021-05-21</td>\n",
              "      <td>NaT</td>\n",
              "      <td>2</td>\n",
              "      <td>2021-08-12</td>\n",
              "      <td>NaT</td>\n",
              "      <td>болен</td>\n",
              "    </tr>\n",
              "  </tbody>\n",
              "</table>\n",
              "</div>"
            ],
            "text/plain": [
              "   current_date  id_emp   name_emp  ...  start_stat_date end_stat_date  name_stat\n",
              "0    2021-08-01       1  Александр  ...       2021-07-01           NaT    в офисе\n",
              "1    2021-08-02       2   Владимир  ...       2021-07-04    2021-07-11      болен\n",
              "2    2021-08-03       3      Ольга  ...       2021-07-07    2021-07-17  в отпуске\n",
              "3    2021-08-04       4    Николай  ...       2021-07-10           NaT    в офисе\n",
              "4    2021-08-05       5   Светлана  ...       2021-07-13    2021-07-20      болен\n",
              "5    2021-08-06       6     Виктор  ...       2021-07-16    2021-07-26  в отпуске\n",
              "6    2021-08-07       7    Дмитрий  ...       2021-07-19    2021-07-29  в отпуске\n",
              "7    2021-08-08       8      Антон  ...       2021-07-22    2021-08-01  в отпуске\n",
              "8    2021-08-09       9    Валерий  ...       2021-07-25           NaT    в офисе\n",
              "9    2021-08-10      10      Роман  ...       2021-07-28    2021-08-04      болен\n",
              "10   2021-08-11      11     Андрей  ...       2021-07-31    2021-08-10  в отпуске\n",
              "11   2021-08-12      12      Ирина  ...       2021-08-03           NaT    в офисе\n",
              "12   2021-08-13      13       Анна  ...       2021-08-06           NaT    в офисе\n",
              "13   2021-08-14      14     Оксана  ...       2021-08-09           NaT      болен\n",
              "14   2021-08-15      15      Тимур  ...       2021-08-12           NaT      болен\n",
              "\n",
              "[15 rows x 10 columns]"
            ]
          },
          "metadata": {},
          "execution_count": 10
        }
      ]
    },
    {
      "cell_type": "markdown",
      "metadata": {
        "id": "V5bM0mO7tTwy"
      },
      "source": [
        "## 3.1 \n",
        "Запрос, выводящий ближайшего подчиненного (заместителя). Если их несколько, взять того, кто дольше работает на своей должности."
      ]
    },
    {
      "cell_type": "markdown",
      "metadata": {
        "id": "dt-U5QGYvgYO"
      },
      "source": [
        "``` sql\n",
        "WITH t1 AS\n",
        "          (SELECT id_emp, name_emp\n",
        "          FROM stat_emp),\n",
        "\n",
        "t2 AS \n",
        "          (SELECT s.id_emp, s.name_emp, t1.name_emp AS chief_name, \n",
        "                  strftime('%J', \n",
        "                  date('now')) - strftime('%J',date(start_work) AS work_day\n",
        "           FROM stat_emp AS s\n",
        "           LEFT JOIN t1 ON t1.id_emp=s.cheif_id\n",
        "           WHERE end_work IS NULL)\n",
        "SELECT *\n",
        "FROM t2\n",
        "WHERE chief_name NOT NULL\n",
        "GROUP BY chief_name\n",
        "HAVING MAX(work_day)\n",
        "```"
      ]
    },
    {
      "cell_type": "markdown",
      "metadata": {
        "id": "fi_xOpRgwXE0"
      },
      "source": [
        "Результат:"
      ]
    },
    {
      "cell_type": "code",
      "metadata": {
        "colab": {
          "base_uri": "https://localhost:8080/",
          "height": 225
        },
        "id": "x09fj1sy3upp",
        "cellView": "code",
        "outputId": "f00f8b77-738b-4b7d-9466-b479f348daa9"
      },
      "source": [
        "select(sql)"
      ],
      "execution_count": null,
      "outputs": [
        {
          "output_type": "execute_result",
          "data": {
            "text/html": [
              "<div>\n",
              "<style scoped>\n",
              "    .dataframe tbody tr th:only-of-type {\n",
              "        vertical-align: middle;\n",
              "    }\n",
              "\n",
              "    .dataframe tbody tr th {\n",
              "        vertical-align: top;\n",
              "    }\n",
              "\n",
              "    .dataframe thead th {\n",
              "        text-align: right;\n",
              "    }\n",
              "</style>\n",
              "<table border=\"1\" class=\"dataframe\">\n",
              "  <thead>\n",
              "    <tr style=\"text-align: right;\">\n",
              "      <th></th>\n",
              "      <th>id_emp</th>\n",
              "      <th>name_emp</th>\n",
              "      <th>chief_name</th>\n",
              "      <th>work_day</th>\n",
              "    </tr>\n",
              "  </thead>\n",
              "  <tbody>\n",
              "    <tr>\n",
              "      <th>0</th>\n",
              "      <td>2</td>\n",
              "      <td>Владимир</td>\n",
              "      <td>Александр</td>\n",
              "      <td>220.0</td>\n",
              "    </tr>\n",
              "    <tr>\n",
              "      <th>1</th>\n",
              "      <td>3</td>\n",
              "      <td>Ольга</td>\n",
              "      <td>Владимир</td>\n",
              "      <td>210.0</td>\n",
              "    </tr>\n",
              "    <tr>\n",
              "      <th>2</th>\n",
              "      <td>14</td>\n",
              "      <td>Оксана</td>\n",
              "      <td>Николай</td>\n",
              "      <td>100.0</td>\n",
              "    </tr>\n",
              "    <tr>\n",
              "      <th>3</th>\n",
              "      <td>5</td>\n",
              "      <td>Светлана</td>\n",
              "      <td>Ольга</td>\n",
              "      <td>190.0</td>\n",
              "    </tr>\n",
              "    <tr>\n",
              "      <th>4</th>\n",
              "      <td>15</td>\n",
              "      <td>Тимур</td>\n",
              "      <td>Светлана</td>\n",
              "      <td>90.0</td>\n",
              "    </tr>\n",
              "    <tr>\n",
              "      <th>5</th>\n",
              "      <td>9</td>\n",
              "      <td>Валерий</td>\n",
              "      <td>Тимур</td>\n",
              "      <td>150.0</td>\n",
              "    </tr>\n",
              "  </tbody>\n",
              "</table>\n",
              "</div>"
            ],
            "text/plain": [
              "   id_emp  name_emp chief_name  work_day\n",
              "0       2  Владимир  Александр     220.0\n",
              "1       3     Ольга   Владимир     210.0\n",
              "2      14    Оксана    Николай     100.0\n",
              "3       5  Светлана      Ольга     190.0\n",
              "4      15     Тимур   Светлана      90.0\n",
              "5       9   Валерий      Тимур     150.0"
            ]
          },
          "metadata": {},
          "execution_count": 12
        }
      ]
    },
    {
      "cell_type": "markdown",
      "metadata": {
        "id": "xylXLvM9v8zf"
      },
      "source": [
        "## 3.2\n",
        "Запрос, выводящий для указанной должности ближайшего активного (работающего в офисе) начальника. Более сложный вариант: на указанную дату."
      ]
    },
    {
      "cell_type": "markdown",
      "metadata": {
        "id": "K8GFdjFEwbXw"
      },
      "source": [
        "```sql\n",
        "WITH t1 AS\n",
        "          (SELECT id_emp, name_emp\n",
        "           FROM stat_emp),\n",
        "\n",
        "t2 AS \n",
        "          (SELECT s.id_emp, s.name_emp, t1.name_emp AS chief_name, \n",
        "                  strftime('%J',date('now')) - strftime('%J',\n",
        "                  date(start_work)) AS work_day, s.name_stat\n",
        "           FROM stat_emp AS s\n",
        "           INNER JOIN t1 ON t1.id_emp=s.cheif_id\n",
        "           WHERE end_work IS NULL)\n",
        "\n",
        "SELECT *\n",
        "FROM t2\n",
        "WHERE chief_name NOT NULL AND name_stat='в офисе'\n",
        "GROUP BY chief_name\n",
        "HAVING MAX(work_day)\n",
        "ORDER BY id_emp\n",
        "```"
      ]
    },
    {
      "cell_type": "markdown",
      "metadata": {
        "id": "d_PiPDhZw_WX"
      },
      "source": [
        "Результат:"
      ]
    },
    {
      "cell_type": "code",
      "metadata": {
        "colab": {
          "base_uri": "https://localhost:8080/",
          "height": 106
        },
        "id": "6J9CwRoDjV4q",
        "outputId": "7bed044f-25c3-4be2-e0af-993fcb05a94c"
      },
      "source": [
        "select(sql)"
      ],
      "execution_count": null,
      "outputs": [
        {
          "output_type": "execute_result",
          "data": {
            "text/html": [
              "<div>\n",
              "<style scoped>\n",
              "    .dataframe tbody tr th:only-of-type {\n",
              "        vertical-align: middle;\n",
              "    }\n",
              "\n",
              "    .dataframe tbody tr th {\n",
              "        vertical-align: top;\n",
              "    }\n",
              "\n",
              "    .dataframe thead th {\n",
              "        text-align: right;\n",
              "    }\n",
              "</style>\n",
              "<table border=\"1\" class=\"dataframe\">\n",
              "  <thead>\n",
              "    <tr style=\"text-align: right;\">\n",
              "      <th></th>\n",
              "      <th>id_emp</th>\n",
              "      <th>name_emp</th>\n",
              "      <th>chief_name</th>\n",
              "      <th>work_day</th>\n",
              "      <th>name_stat</th>\n",
              "    </tr>\n",
              "  </thead>\n",
              "  <tbody>\n",
              "    <tr>\n",
              "      <th>0</th>\n",
              "      <td>9</td>\n",
              "      <td>Валерий</td>\n",
              "      <td>Тимур</td>\n",
              "      <td>150.0</td>\n",
              "      <td>в офисе</td>\n",
              "    </tr>\n",
              "    <tr>\n",
              "      <th>1</th>\n",
              "      <td>13</td>\n",
              "      <td>Анна</td>\n",
              "      <td>Ольга</td>\n",
              "      <td>110.0</td>\n",
              "      <td>в офисе</td>\n",
              "    </tr>\n",
              "  </tbody>\n",
              "</table>\n",
              "</div>"
            ],
            "text/plain": [
              "   id_emp name_emp chief_name  work_day name_stat\n",
              "0       9  Валерий      Тимур     150.0   в офисе\n",
              "1      13     Анна      Ольга     110.0   в офисе"
            ]
          },
          "metadata": {},
          "execution_count": 14
        }
      ]
    },
    {
      "cell_type": "markdown",
      "metadata": {
        "id": "LxZhZ8q3xBeR"
      },
      "source": [
        "## 3.3\n",
        "Запрос, выводящий список всех доступных (не отсутствующих) подчиненных указанного начальника. Более сложный вариант: на указанную дату."
      ]
    },
    {
      "cell_type": "markdown",
      "metadata": {
        "id": "V9raRebxxEs0"
      },
      "source": [
        "Нет решения"
      ]
    },
    {
      "cell_type": "markdown",
      "metadata": {
        "id": "HfM8MG1SxSm-"
      },
      "source": [
        "## 3.5\n",
        "Запрос, подсчитывающий число рабочих дней в указанный промежуток [дата с, дата по] для всех сотрудников, работавших в этот период хотя бы один день."
      ]
    },
    {
      "cell_type": "markdown",
      "metadata": {
        "id": "u8XlsFGBxrL5"
      },
      "source": [
        "```sql\n",
        "\n",
        "SELECT name_emp,\n",
        "julianday(date('now')) - julianday(start_work) -\n",
        "    (CASE WHEN julianday(date('now')) = julianday(start_work) THEN 0\n",
        "     ELSE (CAST((julianday(date('now')) - julianday(start_work)) / 7 AS INTEGER) * 2\n",
        "         ) +\n",
        "      CASE WHEN strftime('%w', start_work) <= strftime('%w', date('now')) THEN 2\n",
        "           ELSE strftime('%w', start_work) = '6' END\n",
        "     END) AS num_work_day\n",
        "FROM stat_emp\n",
        "WHERE start_work BETWEEN '2021-01-01' AND '2021-08-30'\n",
        "GROUP BY name_emp\n",
        "HAVING num_work_day > 1\n",
        "\n",
        "```"
      ]
    },
    {
      "cell_type": "markdown",
      "metadata": {
        "id": "QCgTUPHtxxQb"
      },
      "source": [
        "Результат:"
      ]
    },
    {
      "cell_type": "code",
      "metadata": {
        "colab": {
          "base_uri": "https://localhost:8080/",
          "height": 491
        },
        "id": "LsI_6yc7ArTk",
        "outputId": "6725c6a2-6496-4a7e-b3fe-471b74393726"
      },
      "source": [
        "select(sql)"
      ],
      "execution_count": null,
      "outputs": [
        {
          "output_type": "execute_result",
          "data": {
            "text/html": [
              "<div>\n",
              "<style scoped>\n",
              "    .dataframe tbody tr th:only-of-type {\n",
              "        vertical-align: middle;\n",
              "    }\n",
              "\n",
              "    .dataframe tbody tr th {\n",
              "        vertical-align: top;\n",
              "    }\n",
              "\n",
              "    .dataframe thead th {\n",
              "        text-align: right;\n",
              "    }\n",
              "</style>\n",
              "<table border=\"1\" class=\"dataframe\">\n",
              "  <thead>\n",
              "    <tr style=\"text-align: right;\">\n",
              "      <th></th>\n",
              "      <th>name_emp</th>\n",
              "      <th>num_work_day</th>\n",
              "    </tr>\n",
              "  </thead>\n",
              "  <tbody>\n",
              "    <tr>\n",
              "      <th>0</th>\n",
              "      <td>Александр</td>\n",
              "      <td>166.0</td>\n",
              "    </tr>\n",
              "    <tr>\n",
              "      <th>1</th>\n",
              "      <td>Андрей</td>\n",
              "      <td>92.0</td>\n",
              "    </tr>\n",
              "    <tr>\n",
              "      <th>2</th>\n",
              "      <td>Анна</td>\n",
              "      <td>79.0</td>\n",
              "    </tr>\n",
              "    <tr>\n",
              "      <th>3</th>\n",
              "      <td>Антон</td>\n",
              "      <td>116.0</td>\n",
              "    </tr>\n",
              "    <tr>\n",
              "      <th>4</th>\n",
              "      <td>Валерий</td>\n",
              "      <td>106.0</td>\n",
              "    </tr>\n",
              "    <tr>\n",
              "      <th>5</th>\n",
              "      <td>Виктор</td>\n",
              "      <td>129.0</td>\n",
              "    </tr>\n",
              "    <tr>\n",
              "      <th>6</th>\n",
              "      <td>Владимир</td>\n",
              "      <td>156.0</td>\n",
              "    </tr>\n",
              "    <tr>\n",
              "      <th>7</th>\n",
              "      <td>Дмитрий</td>\n",
              "      <td>120.0</td>\n",
              "    </tr>\n",
              "    <tr>\n",
              "      <th>8</th>\n",
              "      <td>Ирина</td>\n",
              "      <td>84.0</td>\n",
              "    </tr>\n",
              "    <tr>\n",
              "      <th>9</th>\n",
              "      <td>Николай</td>\n",
              "      <td>142.0</td>\n",
              "    </tr>\n",
              "    <tr>\n",
              "      <th>10</th>\n",
              "      <td>Оксана</td>\n",
              "      <td>70.0</td>\n",
              "    </tr>\n",
              "    <tr>\n",
              "      <th>11</th>\n",
              "      <td>Ольга</td>\n",
              "      <td>148.0</td>\n",
              "    </tr>\n",
              "    <tr>\n",
              "      <th>12</th>\n",
              "      <td>Роман</td>\n",
              "      <td>98.0</td>\n",
              "    </tr>\n",
              "    <tr>\n",
              "      <th>13</th>\n",
              "      <td>Светлана</td>\n",
              "      <td>134.0</td>\n",
              "    </tr>\n",
              "    <tr>\n",
              "      <th>14</th>\n",
              "      <td>Тимур</td>\n",
              "      <td>66.0</td>\n",
              "    </tr>\n",
              "  </tbody>\n",
              "</table>\n",
              "</div>"
            ],
            "text/plain": [
              "     name_emp  num_work_day\n",
              "0   Александр         166.0\n",
              "1      Андрей          92.0\n",
              "2        Анна          79.0\n",
              "3       Антон         116.0\n",
              "4     Валерий         106.0\n",
              "5      Виктор         129.0\n",
              "6    Владимир         156.0\n",
              "7     Дмитрий         120.0\n",
              "8       Ирина          84.0\n",
              "9     Николай         142.0\n",
              "10     Оксана          70.0\n",
              "11      Ольга         148.0\n",
              "12      Роман          98.0\n",
              "13   Светлана         134.0\n",
              "14      Тимур          66.0"
            ]
          },
          "metadata": {},
          "execution_count": 16
        }
      ]
    },
    {
      "cell_type": "markdown",
      "metadata": {
        "id": "9uv6TOuhxWph"
      },
      "source": [
        "## 3.6\n",
        "И/или количество дней (можно календарных), разбитых по колонками \"в офисе\", \"в отпуске\", \"в командировке\", \"болел\" и т.д. (количество и названия заранее не известны - это данные из п.3-4)"
      ]
    },
    {
      "cell_type": "markdown",
      "metadata": {
        "id": "rO1mm4TlxuZK"
      },
      "source": [
        "```sql\n",
        "\n",
        "WITH t AS (\n",
        "\n",
        "SELECT name_emp, strftime('%J',date('now')) - strftime('%J',date(start_work)) AS work_day, \n",
        "julianday(date('now')) - julianday(start_work) -\n",
        "    (CASE WHEN julianday(date('now')) = julianday(start_work) THEN 0\n",
        "    ELSE (CAST((julianday(date('now')) - julianday(start_work)) / 7 AS INTEGER) * 2\n",
        "         ) +\n",
        "      CASE WHEN strftime('%w', start_work) <= strftime('%w', date('now')) THEN 2\n",
        "           ELSE strftime('%w', start_work) = '6'\n",
        "      END\n",
        "    END) AS num_work_day_all, \n",
        "    name_stat,\n",
        "    CASE WHEN (julianday(end_stat_date) - julianday(start_stat_date) -\n",
        "    (CASE WHEN julianday(end_stat_date) = julianday(start_stat_date) THEN 0\n",
        "    ELSE (CAST((julianday(end_stat_date) - julianday(start_stat_date)) / 7 AS INTEGER) * 2\n",
        "         ) +\n",
        "      CASE WHEN strftime('%w', start_stat_date) <= strftime('%w', end_stat_date) THEN 2\n",
        "           ELSE strftime('%w', start_stat_date) = '6'\n",
        "      END\n",
        "    END)) IS NULL THEN 0 ELSE \n",
        "    julianday(end_stat_date) - julianday(start_stat_date) -\n",
        "    (CASE WHEN julianday(end_stat_date) = julianday(start_stat_date) THEN 0\n",
        "    ELSE (CAST((julianday(end_stat_date) - julianday(start_stat_date)) / 7 AS INTEGER) * 2\n",
        "         ) +\n",
        "      CASE WHEN strftime('%w', start_stat_date) <= strftime('%w', end_stat_date) THEN 2\n",
        "           ELSE strftime('%w', start_stat_date) = '6'\n",
        "      END\n",
        "    END)\n",
        "    \n",
        "     END AS num_fail_day_all \n",
        "FROM stat_emp\n",
        ")\n",
        "\n",
        "SELECT name_emp, \n",
        "  CASE WHEN (SUM(CASE WHEN name_stat = 'в офисе' THEN (num_work_day_all-num_fail_day_all) END)) IS NULL THEN 0 \n",
        "  ELSE SUM(CASE WHEN name_stat = 'в офисе' THEN (num_work_day_all-num_fail_day_all) END) END AS 'в офисе',\n",
        "  CASE WHEN (SUM(CASE WHEN name_stat = 'болен' THEN num_fail_day_all END)) IS NULL THEN 0\n",
        "  ELSE SUM(CASE WHEN name_stat = 'болен' THEN num_fail_day_all END) END AS 'болен',\n",
        "  CASE WHEN (SUM(CASE WHEN name_stat = 'в отпуске' THEN num_fail_day_all END)) IS NULL THEN 0\n",
        "  ELSE SUM(CASE WHEN name_stat = 'в отпуске' THEN num_fail_day_all END) END AS 'в отпуске'\n",
        "FROM t\n",
        "GROUP BY name_emp;\n",
        "\n",
        "```"
      ]
    },
    {
      "cell_type": "markdown",
      "metadata": {
        "id": "USeuFOuVx1or"
      },
      "source": [
        "Результат:"
      ]
    },
    {
      "cell_type": "code",
      "metadata": {
        "colab": {
          "base_uri": "https://localhost:8080/",
          "height": 491
        },
        "id": "awy3LYH4m41V",
        "outputId": "465f291f-eab0-450e-c345-0f7f78a201e6"
      },
      "source": [
        "select(sql)"
      ],
      "execution_count": null,
      "outputs": [
        {
          "output_type": "execute_result",
          "data": {
            "text/html": [
              "<div>\n",
              "<style scoped>\n",
              "    .dataframe tbody tr th:only-of-type {\n",
              "        vertical-align: middle;\n",
              "    }\n",
              "\n",
              "    .dataframe tbody tr th {\n",
              "        vertical-align: top;\n",
              "    }\n",
              "\n",
              "    .dataframe thead th {\n",
              "        text-align: right;\n",
              "    }\n",
              "</style>\n",
              "<table border=\"1\" class=\"dataframe\">\n",
              "  <thead>\n",
              "    <tr style=\"text-align: right;\">\n",
              "      <th></th>\n",
              "      <th>name_emp</th>\n",
              "      <th>в офисе</th>\n",
              "      <th>болен</th>\n",
              "      <th>в отпуске</th>\n",
              "    </tr>\n",
              "  </thead>\n",
              "  <tbody>\n",
              "    <tr>\n",
              "      <th>0</th>\n",
              "      <td>Александр</td>\n",
              "      <td>166.0</td>\n",
              "      <td>0.0</td>\n",
              "      <td>0.0</td>\n",
              "    </tr>\n",
              "    <tr>\n",
              "      <th>1</th>\n",
              "      <td>Андрей</td>\n",
              "      <td>0.0</td>\n",
              "      <td>0.0</td>\n",
              "      <td>7.0</td>\n",
              "    </tr>\n",
              "    <tr>\n",
              "      <th>2</th>\n",
              "      <td>Анна</td>\n",
              "      <td>79.0</td>\n",
              "      <td>0.0</td>\n",
              "      <td>0.0</td>\n",
              "    </tr>\n",
              "    <tr>\n",
              "      <th>3</th>\n",
              "      <td>Антон</td>\n",
              "      <td>0.0</td>\n",
              "      <td>0.0</td>\n",
              "      <td>8.0</td>\n",
              "    </tr>\n",
              "    <tr>\n",
              "      <th>4</th>\n",
              "      <td>Валерий</td>\n",
              "      <td>106.0</td>\n",
              "      <td>0.0</td>\n",
              "      <td>0.0</td>\n",
              "    </tr>\n",
              "    <tr>\n",
              "      <th>5</th>\n",
              "      <td>Виктор</td>\n",
              "      <td>0.0</td>\n",
              "      <td>0.0</td>\n",
              "      <td>8.0</td>\n",
              "    </tr>\n",
              "    <tr>\n",
              "      <th>6</th>\n",
              "      <td>Владимир</td>\n",
              "      <td>0.0</td>\n",
              "      <td>3.0</td>\n",
              "      <td>0.0</td>\n",
              "    </tr>\n",
              "    <tr>\n",
              "      <th>7</th>\n",
              "      <td>Дмитрий</td>\n",
              "      <td>0.0</td>\n",
              "      <td>0.0</td>\n",
              "      <td>6.0</td>\n",
              "    </tr>\n",
              "    <tr>\n",
              "      <th>8</th>\n",
              "      <td>Ирина</td>\n",
              "      <td>84.0</td>\n",
              "      <td>0.0</td>\n",
              "      <td>0.0</td>\n",
              "    </tr>\n",
              "    <tr>\n",
              "      <th>9</th>\n",
              "      <td>Николай</td>\n",
              "      <td>142.0</td>\n",
              "      <td>0.0</td>\n",
              "      <td>0.0</td>\n",
              "    </tr>\n",
              "    <tr>\n",
              "      <th>10</th>\n",
              "      <td>Оксана</td>\n",
              "      <td>0.0</td>\n",
              "      <td>0.0</td>\n",
              "      <td>0.0</td>\n",
              "    </tr>\n",
              "    <tr>\n",
              "      <th>11</th>\n",
              "      <td>Ольга</td>\n",
              "      <td>0.0</td>\n",
              "      <td>0.0</td>\n",
              "      <td>6.0</td>\n",
              "    </tr>\n",
              "    <tr>\n",
              "      <th>12</th>\n",
              "      <td>Роман</td>\n",
              "      <td>0.0</td>\n",
              "      <td>3.0</td>\n",
              "      <td>0.0</td>\n",
              "    </tr>\n",
              "    <tr>\n",
              "      <th>13</th>\n",
              "      <td>Светлана</td>\n",
              "      <td>0.0</td>\n",
              "      <td>3.0</td>\n",
              "      <td>0.0</td>\n",
              "    </tr>\n",
              "    <tr>\n",
              "      <th>14</th>\n",
              "      <td>Тимур</td>\n",
              "      <td>0.0</td>\n",
              "      <td>0.0</td>\n",
              "      <td>0.0</td>\n",
              "    </tr>\n",
              "  </tbody>\n",
              "</table>\n",
              "</div>"
            ],
            "text/plain": [
              "     name_emp  в офисе  болен  в отпуске\n",
              "0   Александр    166.0    0.0        0.0\n",
              "1      Андрей      0.0    0.0        7.0\n",
              "2        Анна     79.0    0.0        0.0\n",
              "3       Антон      0.0    0.0        8.0\n",
              "4     Валерий    106.0    0.0        0.0\n",
              "5      Виктор      0.0    0.0        8.0\n",
              "6    Владимир      0.0    3.0        0.0\n",
              "7     Дмитрий      0.0    0.0        6.0\n",
              "8       Ирина     84.0    0.0        0.0\n",
              "9     Николай    142.0    0.0        0.0\n",
              "10     Оксана      0.0    0.0        0.0\n",
              "11      Ольга      0.0    0.0        6.0\n",
              "12      Роман      0.0    3.0        0.0\n",
              "13   Светлана      0.0    3.0        0.0\n",
              "14      Тимур      0.0    0.0        0.0"
            ]
          },
          "metadata": {},
          "execution_count": 20
        }
      ]
    }
  ]
}