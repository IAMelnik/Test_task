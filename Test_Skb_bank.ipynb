{
  "nbformat": 4,
  "nbformat_minor": 0,
  "metadata": {
    "colab": {
      "name": "Test_skb_bank.ipynb",
      "provenance": [],
      "collapsed_sections": []
    },
    "kernelspec": {
      "name": "python3",
      "display_name": "Python 3"
    },
    "language_info": {
      "name": "python"
    }
  },
  "cells": [
    {
      "cell_type": "markdown",
      "metadata": {
        "id": "BW9tePMKuaTK"
      },
      "source": [
        "Клиентам были отправлены два макета электронных писем (А и Б). Для каждого клиента известен пол и возраст.\n",
        "В приложенном файле результаты отработки кампании: доставлено писем, открыто писем, сколько клиентов перешло по ссылке после открытия письма, сколько клиентов отписалось от рассылки.\n",
        "\n",
        "Необходимо оценить, как сегменты отреагировали на рассылку в рамках каждого макета? И выяснить, какой из шаблонов в перспективных рассылках лучше всего отправлять клиентам?\n",
        "\n",
        "Необходимо указать, какими программными средствами решалась задача? Вкратце указать алгоритм.\n",
        "Какие параметры использовались для оценки при принятии решения о том, какой макет лучше?\n",
        "Какие можно дать рекомендации по отправке макетов разным сегментам?\n"
      ]
    },
    {
      "cell_type": "markdown",
      "metadata": {
        "id": "1Ivi3ouoxZNP"
      },
      "source": [
        "# Предобработка данных"
      ]
    },
    {
      "cell_type": "code",
      "metadata": {
        "id": "a69rrjoPu-Bl"
      },
      "source": [
        "import pandas as pd\n",
        "import numpy as np\n",
        "from scipy import stats as st\n",
        "import math as mth"
      ],
      "execution_count": null,
      "outputs": []
    },
    {
      "cell_type": "code",
      "metadata": {
        "id": "ekkhgaicvIVq"
      },
      "source": [
        "df = pd.read_excel('/content/тестовое задание.xlsx')"
      ],
      "execution_count": null,
      "outputs": []
    },
    {
      "cell_type": "code",
      "metadata": {
        "colab": {
          "base_uri": "https://localhost:8080/"
        },
        "id": "wEN2T6Cnvaz1",
        "outputId": "3a562a1a-b093-4970-d5e3-b7173fa02d83"
      },
      "source": [
        "df.info()"
      ],
      "execution_count": null,
      "outputs": [
        {
          "output_type": "stream",
          "text": [
            "<class 'pandas.core.frame.DataFrame'>\n",
            "RangeIndex: 42126 entries, 0 to 42125\n",
            "Data columns (total 8 columns):\n",
            " #   Column             Non-Null Count  Dtype  \n",
            "---  ------             --------------  -----  \n",
            " 0   Номер клиента      42126 non-null  int64  \n",
            " 1   Макет              42126 non-null  object \n",
            " 2   Доставлено         23007 non-null  float64\n",
            " 3   Открыто            42126 non-null  int64  \n",
            " 4   Переход по ссылке  42126 non-null  int64  \n",
            " 5   Отписки            42126 non-null  int64  \n",
            " 6   Возраст            42126 non-null  float64\n",
            " 7   Пол                42126 non-null  object \n",
            "dtypes: float64(2), int64(4), object(2)\n",
            "memory usage: 2.6+ MB\n"
          ],
          "name": "stdout"
        }
      ]
    },
    {
      "cell_type": "code",
      "metadata": {
        "colab": {
          "base_uri": "https://localhost:8080/",
          "height": 284
        },
        "id": "9rNpG0dzwXid",
        "outputId": "f39cf47d-4c0d-4420-e0f8-cec19af77366"
      },
      "source": [
        "df.describe()"
      ],
      "execution_count": null,
      "outputs": [
        {
          "output_type": "execute_result",
          "data": {
            "text/html": [
              "<div>\n",
              "<style scoped>\n",
              "    .dataframe tbody tr th:only-of-type {\n",
              "        vertical-align: middle;\n",
              "    }\n",
              "\n",
              "    .dataframe tbody tr th {\n",
              "        vertical-align: top;\n",
              "    }\n",
              "\n",
              "    .dataframe thead th {\n",
              "        text-align: right;\n",
              "    }\n",
              "</style>\n",
              "<table border=\"1\" class=\"dataframe\">\n",
              "  <thead>\n",
              "    <tr style=\"text-align: right;\">\n",
              "      <th></th>\n",
              "      <th>Номер клиента</th>\n",
              "      <th>Доставлено</th>\n",
              "      <th>Открыто</th>\n",
              "      <th>Переход по ссылке</th>\n",
              "      <th>Отписки</th>\n",
              "      <th>Возраст</th>\n",
              "    </tr>\n",
              "  </thead>\n",
              "  <tbody>\n",
              "    <tr>\n",
              "      <th>count</th>\n",
              "      <td>42126.000000</td>\n",
              "      <td>23007.0</td>\n",
              "      <td>42126.000000</td>\n",
              "      <td>42126.000000</td>\n",
              "      <td>42126.000000</td>\n",
              "      <td>42126.000000</td>\n",
              "    </tr>\n",
              "    <tr>\n",
              "      <th>mean</th>\n",
              "      <td>21063.500000</td>\n",
              "      <td>1.0</td>\n",
              "      <td>0.093529</td>\n",
              "      <td>0.018326</td>\n",
              "      <td>0.008498</td>\n",
              "      <td>35.832854</td>\n",
              "    </tr>\n",
              "    <tr>\n",
              "      <th>std</th>\n",
              "      <td>12160.873057</td>\n",
              "      <td>0.0</td>\n",
              "      <td>0.291176</td>\n",
              "      <td>0.134129</td>\n",
              "      <td>0.091795</td>\n",
              "      <td>5.363511</td>\n",
              "    </tr>\n",
              "    <tr>\n",
              "      <th>min</th>\n",
              "      <td>1.000000</td>\n",
              "      <td>1.0</td>\n",
              "      <td>0.000000</td>\n",
              "      <td>0.000000</td>\n",
              "      <td>0.000000</td>\n",
              "      <td>23.339726</td>\n",
              "    </tr>\n",
              "    <tr>\n",
              "      <th>25%</th>\n",
              "      <td>10532.250000</td>\n",
              "      <td>1.0</td>\n",
              "      <td>0.000000</td>\n",
              "      <td>0.000000</td>\n",
              "      <td>0.000000</td>\n",
              "      <td>31.920548</td>\n",
              "    </tr>\n",
              "    <tr>\n",
              "      <th>50%</th>\n",
              "      <td>21063.500000</td>\n",
              "      <td>1.0</td>\n",
              "      <td>0.000000</td>\n",
              "      <td>0.000000</td>\n",
              "      <td>0.000000</td>\n",
              "      <td>35.932877</td>\n",
              "    </tr>\n",
              "    <tr>\n",
              "      <th>75%</th>\n",
              "      <td>31594.750000</td>\n",
              "      <td>1.0</td>\n",
              "      <td>0.000000</td>\n",
              "      <td>0.000000</td>\n",
              "      <td>0.000000</td>\n",
              "      <td>39.961644</td>\n",
              "    </tr>\n",
              "    <tr>\n",
              "      <th>max</th>\n",
              "      <td>42126.000000</td>\n",
              "      <td>1.0</td>\n",
              "      <td>1.000000</td>\n",
              "      <td>1.000000</td>\n",
              "      <td>1.000000</td>\n",
              "      <td>52.049315</td>\n",
              "    </tr>\n",
              "  </tbody>\n",
              "</table>\n",
              "</div>"
            ],
            "text/plain": [
              "       Номер клиента  Доставлено  ...       Отписки       Возраст\n",
              "count   42126.000000     23007.0  ...  42126.000000  42126.000000\n",
              "mean    21063.500000         1.0  ...      0.008498     35.832854\n",
              "std     12160.873057         0.0  ...      0.091795      5.363511\n",
              "min         1.000000         1.0  ...      0.000000     23.339726\n",
              "25%     10532.250000         1.0  ...      0.000000     31.920548\n",
              "50%     21063.500000         1.0  ...      0.000000     35.932877\n",
              "75%     31594.750000         1.0  ...      0.000000     39.961644\n",
              "max     42126.000000         1.0  ...      1.000000     52.049315\n",
              "\n",
              "[8 rows x 6 columns]"
            ]
          },
          "metadata": {
            "tags": []
          },
          "execution_count": 6
        }
      ]
    },
    {
      "cell_type": "code",
      "metadata": {
        "colab": {
          "base_uri": "https://localhost:8080/"
        },
        "id": "_m3B6bPnwdsO",
        "outputId": "a5a1fa89-0fc6-4df2-8e53-4c49ff31f527"
      },
      "source": [
        "df.duplicated().sum()"
      ],
      "execution_count": null,
      "outputs": [
        {
          "output_type": "execute_result",
          "data": {
            "text/plain": [
              "0"
            ]
          },
          "metadata": {
            "tags": []
          },
          "execution_count": 7
        }
      ]
    },
    {
      "cell_type": "markdown",
      "metadata": {
        "id": "alZEGuj2IuG5"
      },
      "source": [
        "Проверим значения в строках с Nan в столбце `[Доставлено]` "
      ]
    },
    {
      "cell_type": "code",
      "metadata": {
        "colab": {
          "base_uri": "https://localhost:8080/",
          "height": 284
        },
        "id": "MGuhc3WYIgGe",
        "outputId": "6b8265e1-2463-4100-fc81-ae70d9ab0cc9"
      },
      "source": [
        "df[df['Доставлено'].isnull()].describe()"
      ],
      "execution_count": null,
      "outputs": [
        {
          "output_type": "execute_result",
          "data": {
            "text/html": [
              "<div>\n",
              "<style scoped>\n",
              "    .dataframe tbody tr th:only-of-type {\n",
              "        vertical-align: middle;\n",
              "    }\n",
              "\n",
              "    .dataframe tbody tr th {\n",
              "        vertical-align: top;\n",
              "    }\n",
              "\n",
              "    .dataframe thead th {\n",
              "        text-align: right;\n",
              "    }\n",
              "</style>\n",
              "<table border=\"1\" class=\"dataframe\">\n",
              "  <thead>\n",
              "    <tr style=\"text-align: right;\">\n",
              "      <th></th>\n",
              "      <th>Номер клиента</th>\n",
              "      <th>Доставлено</th>\n",
              "      <th>Открыто</th>\n",
              "      <th>Переход по ссылке</th>\n",
              "      <th>Отписки</th>\n",
              "      <th>Возраст</th>\n",
              "    </tr>\n",
              "  </thead>\n",
              "  <tbody>\n",
              "    <tr>\n",
              "      <th>count</th>\n",
              "      <td>19119.000000</td>\n",
              "      <td>0.0</td>\n",
              "      <td>19119.0</td>\n",
              "      <td>19119.0</td>\n",
              "      <td>19119.0</td>\n",
              "      <td>19119.000000</td>\n",
              "    </tr>\n",
              "    <tr>\n",
              "      <th>mean</th>\n",
              "      <td>23285.469690</td>\n",
              "      <td>NaN</td>\n",
              "      <td>0.0</td>\n",
              "      <td>0.0</td>\n",
              "      <td>0.0</td>\n",
              "      <td>35.866918</td>\n",
              "    </tr>\n",
              "    <tr>\n",
              "      <th>std</th>\n",
              "      <td>9111.852242</td>\n",
              "      <td>NaN</td>\n",
              "      <td>0.0</td>\n",
              "      <td>0.0</td>\n",
              "      <td>0.0</td>\n",
              "      <td>5.347281</td>\n",
              "    </tr>\n",
              "    <tr>\n",
              "      <th>min</th>\n",
              "      <td>1876.000000</td>\n",
              "      <td>NaN</td>\n",
              "      <td>0.0</td>\n",
              "      <td>0.0</td>\n",
              "      <td>0.0</td>\n",
              "      <td>23.421918</td>\n",
              "    </tr>\n",
              "    <tr>\n",
              "      <th>25%</th>\n",
              "      <td>17764.500000</td>\n",
              "      <td>NaN</td>\n",
              "      <td>0.0</td>\n",
              "      <td>0.0</td>\n",
              "      <td>0.0</td>\n",
              "      <td>31.978082</td>\n",
              "    </tr>\n",
              "    <tr>\n",
              "      <th>50%</th>\n",
              "      <td>22544.000000</td>\n",
              "      <td>NaN</td>\n",
              "      <td>0.0</td>\n",
              "      <td>0.0</td>\n",
              "      <td>0.0</td>\n",
              "      <td>35.928767</td>\n",
              "    </tr>\n",
              "    <tr>\n",
              "      <th>75%</th>\n",
              "      <td>29532.500000</td>\n",
              "      <td>NaN</td>\n",
              "      <td>0.0</td>\n",
              "      <td>0.0</td>\n",
              "      <td>0.0</td>\n",
              "      <td>39.991781</td>\n",
              "    </tr>\n",
              "    <tr>\n",
              "      <th>max</th>\n",
              "      <td>42122.000000</td>\n",
              "      <td>NaN</td>\n",
              "      <td>0.0</td>\n",
              "      <td>0.0</td>\n",
              "      <td>0.0</td>\n",
              "      <td>52.049315</td>\n",
              "    </tr>\n",
              "  </tbody>\n",
              "</table>\n",
              "</div>"
            ],
            "text/plain": [
              "       Номер клиента  Доставлено  ...  Отписки       Возраст\n",
              "count   19119.000000         0.0  ...  19119.0  19119.000000\n",
              "mean    23285.469690         NaN  ...      0.0     35.866918\n",
              "std      9111.852242         NaN  ...      0.0      5.347281\n",
              "min      1876.000000         NaN  ...      0.0     23.421918\n",
              "25%     17764.500000         NaN  ...      0.0     31.978082\n",
              "50%     22544.000000         NaN  ...      0.0     35.928767\n",
              "75%     29532.500000         NaN  ...      0.0     39.991781\n",
              "max     42122.000000         NaN  ...      0.0     52.049315\n",
              "\n",
              "[8 rows x 6 columns]"
            ]
          },
          "metadata": {
            "tags": []
          },
          "execution_count": 8
        }
      ]
    },
    {
      "cell_type": "markdown",
      "metadata": {
        "id": "5kJRCEqeIqOO"
      },
      "source": [
        "Ошибок нет, значение Nan соответствует только строкам с недоставленными письмами"
      ]
    },
    {
      "cell_type": "code",
      "metadata": {
        "id": "uzuC57pxINJ0"
      },
      "source": [
        "nan_del = df['Доставлено'].isnull().sum()"
      ],
      "execution_count": null,
      "outputs": []
    },
    {
      "cell_type": "code",
      "metadata": {
        "id": "cRXQyLteEeeV"
      },
      "source": [
        "per_nan_del = df['Доставлено'].isnull().mean()"
      ],
      "execution_count": null,
      "outputs": []
    },
    {
      "cell_type": "code",
      "metadata": {
        "colab": {
          "base_uri": "https://localhost:8080/"
        },
        "id": "L0CSV7Nsw-AN",
        "outputId": "9369c2fc-f076-4cf6-d083-f16253ec1801"
      },
      "source": [
        "print(f'Процент пропусков в столбце \"Доставлено\" {per_nan_del:.1%} или {nan_del} строк')"
      ],
      "execution_count": null,
      "outputs": [
        {
          "output_type": "stream",
          "text": [
            "Процент пропусков в столбце \"Доставлено\" 45.4% или 19119 строк\n"
          ],
          "name": "stdout"
        }
      ]
    },
    {
      "cell_type": "markdown",
      "metadata": {
        "id": "thXv9lm1Nu3h"
      },
      "source": [
        "Заполним пропуски нулями:"
      ]
    },
    {
      "cell_type": "code",
      "metadata": {
        "id": "P1glkdGUIgPa"
      },
      "source": [
        "df = df.fillna(0).copy()"
      ],
      "execution_count": null,
      "outputs": []
    },
    {
      "cell_type": "code",
      "metadata": {
        "colab": {
          "base_uri": "https://localhost:8080/"
        },
        "id": "OfFaTWmDIgXM",
        "outputId": "5e6c0281-3a4d-4083-a441-ef6015d9b364"
      },
      "source": [
        "df.info()"
      ],
      "execution_count": null,
      "outputs": [
        {
          "output_type": "stream",
          "text": [
            "<class 'pandas.core.frame.DataFrame'>\n",
            "RangeIndex: 42126 entries, 0 to 42125\n",
            "Data columns (total 8 columns):\n",
            " #   Column             Non-Null Count  Dtype  \n",
            "---  ------             --------------  -----  \n",
            " 0   Номер клиента      42126 non-null  int64  \n",
            " 1   Макет              42126 non-null  object \n",
            " 2   Доставлено         42126 non-null  float64\n",
            " 3   Открыто            42126 non-null  int64  \n",
            " 4   Переход по ссылке  42126 non-null  int64  \n",
            " 5   Отписки            42126 non-null  int64  \n",
            " 6   Возраст            42126 non-null  float64\n",
            " 7   Пол                42126 non-null  object \n",
            "dtypes: float64(2), int64(4), object(2)\n",
            "memory usage: 2.6+ MB\n"
          ],
          "name": "stdout"
        }
      ]
    },
    {
      "cell_type": "code",
      "metadata": {
        "colab": {
          "base_uri": "https://localhost:8080/",
          "height": 195
        },
        "id": "rHkUNOCeO95z",
        "outputId": "28fac246-e42e-432b-eb5b-aea206cb7aa4"
      },
      "source": [
        "df.head()"
      ],
      "execution_count": null,
      "outputs": [
        {
          "output_type": "execute_result",
          "data": {
            "text/html": [
              "<div>\n",
              "<style scoped>\n",
              "    .dataframe tbody tr th:only-of-type {\n",
              "        vertical-align: middle;\n",
              "    }\n",
              "\n",
              "    .dataframe tbody tr th {\n",
              "        vertical-align: top;\n",
              "    }\n",
              "\n",
              "    .dataframe thead th {\n",
              "        text-align: right;\n",
              "    }\n",
              "</style>\n",
              "<table border=\"1\" class=\"dataframe\">\n",
              "  <thead>\n",
              "    <tr style=\"text-align: right;\">\n",
              "      <th></th>\n",
              "      <th>Номер клиента</th>\n",
              "      <th>Макет</th>\n",
              "      <th>Доставлено</th>\n",
              "      <th>Открыто</th>\n",
              "      <th>Переход по ссылке</th>\n",
              "      <th>Отписки</th>\n",
              "      <th>Возраст</th>\n",
              "      <th>Пол</th>\n",
              "    </tr>\n",
              "  </thead>\n",
              "  <tbody>\n",
              "    <tr>\n",
              "      <th>0</th>\n",
              "      <td>1</td>\n",
              "      <td>Шаблон Б</td>\n",
              "      <td>1.0</td>\n",
              "      <td>1</td>\n",
              "      <td>0</td>\n",
              "      <td>0</td>\n",
              "      <td>41.690411</td>\n",
              "      <td>М</td>\n",
              "    </tr>\n",
              "    <tr>\n",
              "      <th>1</th>\n",
              "      <td>2</td>\n",
              "      <td>Шаблон Б</td>\n",
              "      <td>1.0</td>\n",
              "      <td>1</td>\n",
              "      <td>0</td>\n",
              "      <td>0</td>\n",
              "      <td>28.249315</td>\n",
              "      <td>Ж</td>\n",
              "    </tr>\n",
              "    <tr>\n",
              "      <th>2</th>\n",
              "      <td>3</td>\n",
              "      <td>Шаблон Б</td>\n",
              "      <td>1.0</td>\n",
              "      <td>1</td>\n",
              "      <td>0</td>\n",
              "      <td>0</td>\n",
              "      <td>31.435616</td>\n",
              "      <td>М</td>\n",
              "    </tr>\n",
              "    <tr>\n",
              "      <th>3</th>\n",
              "      <td>4</td>\n",
              "      <td>Шаблон Б</td>\n",
              "      <td>1.0</td>\n",
              "      <td>1</td>\n",
              "      <td>0</td>\n",
              "      <td>0</td>\n",
              "      <td>34.564384</td>\n",
              "      <td>М</td>\n",
              "    </tr>\n",
              "    <tr>\n",
              "      <th>4</th>\n",
              "      <td>5</td>\n",
              "      <td>Шаблон Б</td>\n",
              "      <td>1.0</td>\n",
              "      <td>1</td>\n",
              "      <td>0</td>\n",
              "      <td>0</td>\n",
              "      <td>35.260274</td>\n",
              "      <td>М</td>\n",
              "    </tr>\n",
              "  </tbody>\n",
              "</table>\n",
              "</div>"
            ],
            "text/plain": [
              "   Номер клиента     Макет  Доставлено  ...  Отписки    Возраст  Пол\n",
              "0              1  Шаблон Б         1.0  ...        0  41.690411    М\n",
              "1              2  Шаблон Б         1.0  ...        0  28.249315    Ж\n",
              "2              3  Шаблон Б         1.0  ...        0  31.435616    М\n",
              "3              4  Шаблон Б         1.0  ...        0  34.564384    М\n",
              "4              5  Шаблон Б         1.0  ...        0  35.260274    М\n",
              "\n",
              "[5 rows x 8 columns]"
            ]
          },
          "metadata": {
            "tags": []
          },
          "execution_count": 14
        }
      ]
    },
    {
      "cell_type": "markdown",
      "metadata": {
        "id": "XV3ryQFBOC-O"
      },
      "source": [
        "Заметим, что возраст указан числом с плавающей точкой. Округлим эти значения в меньшую сторону:"
      ]
    },
    {
      "cell_type": "code",
      "metadata": {
        "id": "ApuOxjPWN-59"
      },
      "source": [
        "df['Возраст'] = df['Возраст'].astype(int)"
      ],
      "execution_count": null,
      "outputs": []
    },
    {
      "cell_type": "code",
      "metadata": {
        "id": "vKBk0UJdiui4"
      },
      "source": [
        "df['Доставлено'] = df['Доставлено'].astype(int)"
      ],
      "execution_count": null,
      "outputs": []
    },
    {
      "cell_type": "markdown",
      "metadata": {
        "id": "0X_VfWEcxoCS"
      },
      "source": [
        "## Вывод\n",
        "Данные содержат 42126 строк и 7 столбцов.  \n",
        "Процент пропусков в столбце \"Доставлено\" 19119 строк. Количество не доставленных писем составляет 45.4%.  \n",
        "Дубликаты отсутствуют.  \n",
        "Данные приведены к корректным форматам, пропуски заполнены."
      ]
    },
    {
      "cell_type": "markdown",
      "metadata": {
        "id": "htNDiMTaye0t"
      },
      "source": [
        "# Анализ данных"
      ]
    },
    {
      "cell_type": "markdown",
      "metadata": {
        "id": "uDTWSJgp3jXi"
      },
      "source": [
        "## Заполнение макета таблицы"
      ]
    },
    {
      "cell_type": "code",
      "metadata": {
        "colab": {
          "base_uri": "https://localhost:8080/",
          "height": 320
        },
        "id": "UFkT67eoy29j",
        "outputId": "126e7e33-7e15-4a1a-b32a-b6d486397176"
      },
      "source": [
        "df['Возраст'].plot(kind='box', figsize=(5, 5), grid=True);"
      ],
      "execution_count": null,
      "outputs": [
        {
          "output_type": "display_data",
          "data": {
            "image/png": "[encoded data removed]",
            "text/plain": [
              "<Figure size 360x360 with 1 Axes>"
            ]
          },
          "metadata": {
            "tags": [],
            "needs_background": "light"
          }
        }
      ]
    },
    {
      "cell_type": "markdown",
      "metadata": {
        "id": "NesTczMCylIu"
      },
      "source": [
        "Разобъем клиентов на сегменты согласно возрастным группам."
      ]
    },
    {
      "cell_type": "code",
      "metadata": {
        "id": "BED_0UyRTW5u"
      },
      "source": [
        "age = pd.cut(df['Возраст'], \n",
        "             [0, 27, 40 , df['Возраст'].max()], \n",
        "             labels=['до 27', 'от 28 до 40', 'от 41'])"
      ],
      "execution_count": null,
      "outputs": []
    },
    {
      "cell_type": "code",
      "metadata": {
        "id": "dnf3oBJ7VT0Q"
      },
      "source": [
        "df['age'] = age"
      ],
      "execution_count": null,
      "outputs": []
    },
    {
      "cell_type": "code",
      "metadata": {
        "colab": {
          "base_uri": "https://localhost:8080/",
          "height": 195
        },
        "id": "KzU0X0wEVYCG",
        "outputId": "e26315fe-fa71-46a3-f4a1-71ce19a4f1b4"
      },
      "source": [
        "df[df['Возраст']==27].sample(5)"
      ],
      "execution_count": null,
      "outputs": [
        {
          "output_type": "execute_result",
          "data": {
            "text/html": [
              "<div>\n",
              "<style scoped>\n",
              "    .dataframe tbody tr th:only-of-type {\n",
              "        vertical-align: middle;\n",
              "    }\n",
              "\n",
              "    .dataframe tbody tr th {\n",
              "        vertical-align: top;\n",
              "    }\n",
              "\n",
              "    .dataframe thead th {\n",
              "        text-align: right;\n",
              "    }\n",
              "</style>\n",
              "<table border=\"1\" class=\"dataframe\">\n",
              "  <thead>\n",
              "    <tr style=\"text-align: right;\">\n",
              "      <th></th>\n",
              "      <th>Номер клиента</th>\n",
              "      <th>Макет</th>\n",
              "      <th>Доставлено</th>\n",
              "      <th>Открыто</th>\n",
              "      <th>Переход по ссылке</th>\n",
              "      <th>Отписки</th>\n",
              "      <th>Возраст</th>\n",
              "      <th>Пол</th>\n",
              "      <th>age</th>\n",
              "    </tr>\n",
              "  </thead>\n",
              "  <tbody>\n",
              "    <tr>\n",
              "      <th>36081</th>\n",
              "      <td>36082</td>\n",
              "      <td>Шаблон А</td>\n",
              "      <td>0</td>\n",
              "      <td>0</td>\n",
              "      <td>0</td>\n",
              "      <td>0</td>\n",
              "      <td>27</td>\n",
              "      <td>М</td>\n",
              "      <td>до 27</td>\n",
              "    </tr>\n",
              "    <tr>\n",
              "      <th>15744</th>\n",
              "      <td>15745</td>\n",
              "      <td>Шаблон Б</td>\n",
              "      <td>1</td>\n",
              "      <td>0</td>\n",
              "      <td>0</td>\n",
              "      <td>0</td>\n",
              "      <td>27</td>\n",
              "      <td>М</td>\n",
              "      <td>до 27</td>\n",
              "    </tr>\n",
              "    <tr>\n",
              "      <th>32308</th>\n",
              "      <td>32309</td>\n",
              "      <td>Шаблон А</td>\n",
              "      <td>1</td>\n",
              "      <td>0</td>\n",
              "      <td>0</td>\n",
              "      <td>0</td>\n",
              "      <td>27</td>\n",
              "      <td>Ж</td>\n",
              "      <td>до 27</td>\n",
              "    </tr>\n",
              "    <tr>\n",
              "      <th>20437</th>\n",
              "      <td>20438</td>\n",
              "      <td>Шаблон А</td>\n",
              "      <td>0</td>\n",
              "      <td>0</td>\n",
              "      <td>0</td>\n",
              "      <td>0</td>\n",
              "      <td>27</td>\n",
              "      <td>Ж</td>\n",
              "      <td>до 27</td>\n",
              "    </tr>\n",
              "    <tr>\n",
              "      <th>21904</th>\n",
              "      <td>21905</td>\n",
              "      <td>Шаблон А</td>\n",
              "      <td>0</td>\n",
              "      <td>0</td>\n",
              "      <td>0</td>\n",
              "      <td>0</td>\n",
              "      <td>27</td>\n",
              "      <td>Ж</td>\n",
              "      <td>до 27</td>\n",
              "    </tr>\n",
              "  </tbody>\n",
              "</table>\n",
              "</div>"
            ],
            "text/plain": [
              "       Номер клиента     Макет  Доставлено  ...  Возраст  Пол    age\n",
              "36081          36082  Шаблон А           0  ...       27    М  до 27\n",
              "15744          15745  Шаблон Б           1  ...       27    М  до 27\n",
              "32308          32309  Шаблон А           1  ...       27    Ж  до 27\n",
              "20437          20438  Шаблон А           0  ...       27    Ж  до 27\n",
              "21904          21905  Шаблон А           0  ...       27    Ж  до 27\n",
              "\n",
              "[5 rows x 9 columns]"
            ]
          },
          "metadata": {
            "tags": []
          },
          "execution_count": 20
        }
      ]
    },
    {
      "cell_type": "code",
      "metadata": {
        "colab": {
          "base_uri": "https://localhost:8080/",
          "height": 195
        },
        "id": "ZPzosWqkWEdb",
        "outputId": "2645bf61-4943-47ce-a9a4-3439ef9e475a"
      },
      "source": [
        "df[(df['Возраст'] == 40) | (df['Возраст'] == 41) | (df['Возраст'] == 27)].sample(5)"
      ],
      "execution_count": null,
      "outputs": [
        {
          "output_type": "execute_result",
          "data": {
            "text/html": [
              "<div>\n",
              "<style scoped>\n",
              "    .dataframe tbody tr th:only-of-type {\n",
              "        vertical-align: middle;\n",
              "    }\n",
              "\n",
              "    .dataframe tbody tr th {\n",
              "        vertical-align: top;\n",
              "    }\n",
              "\n",
              "    .dataframe thead th {\n",
              "        text-align: right;\n",
              "    }\n",
              "</style>\n",
              "<table border=\"1\" class=\"dataframe\">\n",
              "  <thead>\n",
              "    <tr style=\"text-align: right;\">\n",
              "      <th></th>\n",
              "      <th>Номер клиента</th>\n",
              "      <th>Макет</th>\n",
              "      <th>Доставлено</th>\n",
              "      <th>Открыто</th>\n",
              "      <th>Переход по ссылке</th>\n",
              "      <th>Отписки</th>\n",
              "      <th>Возраст</th>\n",
              "      <th>Пол</th>\n",
              "      <th>age</th>\n",
              "    </tr>\n",
              "  </thead>\n",
              "  <tbody>\n",
              "    <tr>\n",
              "      <th>37513</th>\n",
              "      <td>37514</td>\n",
              "      <td>Шаблон А</td>\n",
              "      <td>0</td>\n",
              "      <td>0</td>\n",
              "      <td>0</td>\n",
              "      <td>0</td>\n",
              "      <td>41</td>\n",
              "      <td>Ж</td>\n",
              "      <td>от 41</td>\n",
              "    </tr>\n",
              "    <tr>\n",
              "      <th>17785</th>\n",
              "      <td>17786</td>\n",
              "      <td>Шаблон А</td>\n",
              "      <td>0</td>\n",
              "      <td>0</td>\n",
              "      <td>0</td>\n",
              "      <td>0</td>\n",
              "      <td>41</td>\n",
              "      <td>Ж</td>\n",
              "      <td>от 41</td>\n",
              "    </tr>\n",
              "    <tr>\n",
              "      <th>38490</th>\n",
              "      <td>38491</td>\n",
              "      <td>Шаблон А</td>\n",
              "      <td>0</td>\n",
              "      <td>0</td>\n",
              "      <td>0</td>\n",
              "      <td>0</td>\n",
              "      <td>41</td>\n",
              "      <td>М</td>\n",
              "      <td>от 41</td>\n",
              "    </tr>\n",
              "    <tr>\n",
              "      <th>3100</th>\n",
              "      <td>3101</td>\n",
              "      <td>Шаблон Б</td>\n",
              "      <td>0</td>\n",
              "      <td>0</td>\n",
              "      <td>0</td>\n",
              "      <td>0</td>\n",
              "      <td>27</td>\n",
              "      <td>М</td>\n",
              "      <td>до 27</td>\n",
              "    </tr>\n",
              "    <tr>\n",
              "      <th>18763</th>\n",
              "      <td>18764</td>\n",
              "      <td>Шаблон А</td>\n",
              "      <td>0</td>\n",
              "      <td>0</td>\n",
              "      <td>0</td>\n",
              "      <td>0</td>\n",
              "      <td>27</td>\n",
              "      <td>Ж</td>\n",
              "      <td>до 27</td>\n",
              "    </tr>\n",
              "  </tbody>\n",
              "</table>\n",
              "</div>"
            ],
            "text/plain": [
              "       Номер клиента     Макет  Доставлено  ...  Возраст  Пол    age\n",
              "37513          37514  Шаблон А           0  ...       41    Ж  от 41\n",
              "17785          17786  Шаблон А           0  ...       41    Ж  от 41\n",
              "38490          38491  Шаблон А           0  ...       41    М  от 41\n",
              "3100            3101  Шаблон Б           0  ...       27    М  до 27\n",
              "18763          18764  Шаблон А           0  ...       27    Ж  до 27\n",
              "\n",
              "[5 rows x 9 columns]"
            ]
          },
          "metadata": {
            "tags": []
          },
          "execution_count": 21
        }
      ]
    },
    {
      "cell_type": "markdown",
      "metadata": {
        "id": "nnqjKjDj1hnP"
      },
      "source": [
        "Просуммируем значения в столбцах для проверки сводной таблицы"
      ]
    },
    {
      "cell_type": "code",
      "metadata": {
        "colab": {
          "base_uri": "https://localhost:8080/"
        },
        "id": "a5YxgVsGYaYH",
        "outputId": "eab70a68-9386-4f04-91ac-e65922ca3030"
      },
      "source": [
        "df.sum(numeric_only=True)"
      ],
      "execution_count": null,
      "outputs": [
        {
          "output_type": "execute_result",
          "data": {
            "text/plain": [
              "Номер клиента        887321001\n",
              "Доставлено               23007\n",
              "Открыто                   3940\n",
              "Переход по ссылке          772\n",
              "Отписки                    358\n",
              "Возраст                1488137\n",
              "dtype: int64"
            ]
          },
          "metadata": {
            "tags": []
          },
          "execution_count": 22
        }
      ]
    },
    {
      "cell_type": "code",
      "metadata": {
        "id": "8zvP26Z8Sh06"
      },
      "source": [
        ""
      ],
      "execution_count": null,
      "outputs": []
    },
    {
      "cell_type": "markdown",
      "metadata": {
        "id": "e3cW20Am1sIl"
      },
      "source": [
        "Заполним макет таблицы:"
      ]
    },
    {
      "cell_type": "code",
      "metadata": {
        "colab": {
          "base_uri": "https://localhost:8080/",
          "height": 491
        },
        "id": "XIG8IrWqP06j",
        "outputId": "fa6a0589-ae54-4235-db2f-1995cef6f87f"
      },
      "source": [
        "df_answer = pd.pivot_table(df,\n",
        "               index=['Макет', 'age', 'Пол'],\n",
        "               values=['Доставлено', 'Открыто', 'Переход по ссылке', 'Отписки'],\n",
        "               aggfunc=['sum'],\n",
        "               margins=True)\n",
        "df_answer"
      ],
      "execution_count": null,
      "outputs": [
        {
          "output_type": "execute_result",
          "data": {
            "text/html": [
              "<div>\n",
              "<style scoped>\n",
              "    .dataframe tbody tr th:only-of-type {\n",
              "        vertical-align: middle;\n",
              "    }\n",
              "\n",
              "    .dataframe tbody tr th {\n",
              "        vertical-align: top;\n",
              "    }\n",
              "\n",
              "    .dataframe thead tr th {\n",
              "        text-align: left;\n",
              "    }\n",
              "\n",
              "    .dataframe thead tr:last-of-type th {\n",
              "        text-align: right;\n",
              "    }\n",
              "</style>\n",
              "<table border=\"1\" class=\"dataframe\">\n",
              "  <thead>\n",
              "    <tr>\n",
              "      <th></th>\n",
              "      <th></th>\n",
              "      <th></th>\n",
              "      <th colspan=\"4\" halign=\"left\">sum</th>\n",
              "    </tr>\n",
              "    <tr>\n",
              "      <th></th>\n",
              "      <th></th>\n",
              "      <th></th>\n",
              "      <th>Доставлено</th>\n",
              "      <th>Открыто</th>\n",
              "      <th>Отписки</th>\n",
              "      <th>Переход по ссылке</th>\n",
              "    </tr>\n",
              "    <tr>\n",
              "      <th>Макет</th>\n",
              "      <th>age</th>\n",
              "      <th>Пол</th>\n",
              "      <th></th>\n",
              "      <th></th>\n",
              "      <th></th>\n",
              "      <th></th>\n",
              "    </tr>\n",
              "  </thead>\n",
              "  <tbody>\n",
              "    <tr>\n",
              "      <th rowspan=\"6\" valign=\"top\">Шаблон А</th>\n",
              "      <th rowspan=\"2\" valign=\"top\">до 27</th>\n",
              "      <th>Ж</th>\n",
              "      <td>630</td>\n",
              "      <td>87</td>\n",
              "      <td>5</td>\n",
              "      <td>11</td>\n",
              "    </tr>\n",
              "    <tr>\n",
              "      <th>М</th>\n",
              "      <td>229</td>\n",
              "      <td>32</td>\n",
              "      <td>2</td>\n",
              "      <td>4</td>\n",
              "    </tr>\n",
              "    <tr>\n",
              "      <th rowspan=\"2\" valign=\"top\">от 28 до 40</th>\n",
              "      <th>Ж</th>\n",
              "      <td>4236</td>\n",
              "      <td>761</td>\n",
              "      <td>72</td>\n",
              "      <td>155</td>\n",
              "    </tr>\n",
              "    <tr>\n",
              "      <th>М</th>\n",
              "      <td>2959</td>\n",
              "      <td>706</td>\n",
              "      <td>69</td>\n",
              "      <td>122</td>\n",
              "    </tr>\n",
              "    <tr>\n",
              "      <th rowspan=\"2\" valign=\"top\">от 41</th>\n",
              "      <th>Ж</th>\n",
              "      <td>1094</td>\n",
              "      <td>217</td>\n",
              "      <td>19</td>\n",
              "      <td>39</td>\n",
              "    </tr>\n",
              "    <tr>\n",
              "      <th>М</th>\n",
              "      <td>875</td>\n",
              "      <td>262</td>\n",
              "      <td>24</td>\n",
              "      <td>51</td>\n",
              "    </tr>\n",
              "    <tr>\n",
              "      <th rowspan=\"6\" valign=\"top\">Шаблон Б</th>\n",
              "      <th rowspan=\"2\" valign=\"top\">до 27</th>\n",
              "      <th>Ж</th>\n",
              "      <td>865</td>\n",
              "      <td>63</td>\n",
              "      <td>8</td>\n",
              "      <td>12</td>\n",
              "    </tr>\n",
              "    <tr>\n",
              "      <th>М</th>\n",
              "      <td>313</td>\n",
              "      <td>23</td>\n",
              "      <td>5</td>\n",
              "      <td>4</td>\n",
              "    </tr>\n",
              "    <tr>\n",
              "      <th rowspan=\"2\" valign=\"top\">от 28 до 40</th>\n",
              "      <th>Ж</th>\n",
              "      <td>5534</td>\n",
              "      <td>677</td>\n",
              "      <td>59</td>\n",
              "      <td>149</td>\n",
              "    </tr>\n",
              "    <tr>\n",
              "      <th>М</th>\n",
              "      <td>3721</td>\n",
              "      <td>632</td>\n",
              "      <td>65</td>\n",
              "      <td>123</td>\n",
              "    </tr>\n",
              "    <tr>\n",
              "      <th rowspan=\"2\" valign=\"top\">от 41</th>\n",
              "      <th>Ж</th>\n",
              "      <td>1393</td>\n",
              "      <td>219</td>\n",
              "      <td>14</td>\n",
              "      <td>50</td>\n",
              "    </tr>\n",
              "    <tr>\n",
              "      <th>М</th>\n",
              "      <td>1158</td>\n",
              "      <td>261</td>\n",
              "      <td>16</td>\n",
              "      <td>52</td>\n",
              "    </tr>\n",
              "    <tr>\n",
              "      <th>All</th>\n",
              "      <th></th>\n",
              "      <th></th>\n",
              "      <td>23007</td>\n",
              "      <td>3940</td>\n",
              "      <td>358</td>\n",
              "      <td>772</td>\n",
              "    </tr>\n",
              "  </tbody>\n",
              "</table>\n",
              "</div>"
            ],
            "text/plain": [
              "                                sum                                  \n",
              "                         Доставлено Открыто Отписки Переход по ссылке\n",
              "Макет    age         Пол                                             \n",
              "Шаблон А до 27       Ж          630      87       5                11\n",
              "                     М          229      32       2                 4\n",
              "         от 28 до 40 Ж         4236     761      72               155\n",
              "                     М         2959     706      69               122\n",
              "         от 41       Ж         1094     217      19                39\n",
              "                     М          875     262      24                51\n",
              "Шаблон Б до 27       Ж          865      63       8                12\n",
              "                     М          313      23       5                 4\n",
              "         от 28 до 40 Ж         5534     677      59               149\n",
              "                     М         3721     632      65               123\n",
              "         от 41       Ж         1393     219      14                50\n",
              "                     М         1158     261      16                52\n",
              "All                           23007    3940     358               772"
            ]
          },
          "metadata": {
            "tags": []
          },
          "execution_count": 23
        }
      ]
    },
    {
      "cell_type": "markdown",
      "metadata": {
        "id": "4qoWS6gR187u"
      },
      "source": [
        "Итоговые значения совпадают, значит сводная таблица составлена верно."
      ]
    },
    {
      "cell_type": "markdown",
      "metadata": {
        "id": "C34g3Y8wtewV"
      },
      "source": [
        "## Оценка изменений в общем и в рамках каждого шаблона писем"
      ]
    },
    {
      "cell_type": "markdown",
      "metadata": {
        "id": "KBP5A27g2JWV"
      },
      "source": [
        "Создадим новый DataFrame и подготовим для дальнейшего анализа."
      ]
    },
    {
      "cell_type": "code",
      "metadata": {
        "id": "oY255YGgdNPO"
      },
      "source": [
        "df_full = df"
      ],
      "execution_count": null,
      "outputs": []
    },
    {
      "cell_type": "code",
      "metadata": {
        "id": "D1VR_vGbjMw9",
        "colab": {
          "base_uri": "https://localhost:8080/"
        },
        "outputId": "824ea8b8-e8b9-41ea-fbe2-06bd10da78fc"
      },
      "source": [
        "cols = list(df_full.columns.values)\n",
        "cols"
      ],
      "execution_count": null,
      "outputs": [
        {
          "output_type": "execute_result",
          "data": {
            "text/plain": [
              "['Номер клиента',\n",
              " 'Макет',\n",
              " 'Доставлено',\n",
              " 'Открыто',\n",
              " 'Переход по ссылке',\n",
              " 'Отписки',\n",
              " 'Возраст',\n",
              " 'Пол',\n",
              " 'age']"
            ]
          },
          "metadata": {
            "tags": []
          },
          "execution_count": 25
        }
      ]
    },
    {
      "cell_type": "code",
      "metadata": {
        "id": "73YlzVjCjRko"
      },
      "source": [
        "df_full = df_full[['Номер клиента',\n",
        " 'Макет',\n",
        " 'Доставлено',\n",
        " 'Открыто',\n",
        " 'Переход по ссылке',\n",
        " 'Отписки',\n",
        " 'Возраст',\n",
        " 'Пол',\n",
        " 'age']]"
      ],
      "execution_count": null,
      "outputs": []
    },
    {
      "cell_type": "code",
      "metadata": {
        "id": "XcouYJPr3yTs"
      },
      "source": [
        "df_full = pd.pivot_table(df,\n",
        "               index=['Макет', 'age', 'Пол'],\n",
        "               values=['Доставлено', 'Открыто', 'Отписки', 'Переход по ссылке'],\n",
        "               aggfunc=['sum'])"
      ],
      "execution_count": null,
      "outputs": []
    },
    {
      "cell_type": "code",
      "metadata": {
        "id": "WOwwvm5u7zbA"
      },
      "source": [
        "df_full = df_full.reset_index()"
      ],
      "execution_count": null,
      "outputs": []
    },
    {
      "cell_type": "code",
      "metadata": {
        "id": "40uNHilGdmpn"
      },
      "source": [
        "df_full.columns = ['Макет', 'Группа', 'Пол', 'Доставлено', 'Открыто', 'Отписки', 'Переход по ссылке']"
      ],
      "execution_count": null,
      "outputs": []
    },
    {
      "cell_type": "code",
      "metadata": {
        "colab": {
          "base_uri": "https://localhost:8080/",
          "height": 402
        },
        "id": "Jo53_xFp2bQp",
        "outputId": "a5f5638d-dd06-453e-c5d7-6ef04adc74ab"
      },
      "source": [
        "df_full"
      ],
      "execution_count": null,
      "outputs": [
        {
          "output_type": "execute_result",
          "data": {
            "text/html": [
              "<div>\n",
              "<style scoped>\n",
              "    .dataframe tbody tr th:only-of-type {\n",
              "        vertical-align: middle;\n",
              "    }\n",
              "\n",
              "    .dataframe tbody tr th {\n",
              "        vertical-align: top;\n",
              "    }\n",
              "\n",
              "    .dataframe thead th {\n",
              "        text-align: right;\n",
              "    }\n",
              "</style>\n",
              "<table border=\"1\" class=\"dataframe\">\n",
              "  <thead>\n",
              "    <tr style=\"text-align: right;\">\n",
              "      <th></th>\n",
              "      <th>Макет</th>\n",
              "      <th>Группа</th>\n",
              "      <th>Пол</th>\n",
              "      <th>Доставлено</th>\n",
              "      <th>Открыто</th>\n",
              "      <th>Отписки</th>\n",
              "      <th>Переход по ссылке</th>\n",
              "    </tr>\n",
              "  </thead>\n",
              "  <tbody>\n",
              "    <tr>\n",
              "      <th>0</th>\n",
              "      <td>Шаблон А</td>\n",
              "      <td>до 27</td>\n",
              "      <td>Ж</td>\n",
              "      <td>630</td>\n",
              "      <td>87</td>\n",
              "      <td>5</td>\n",
              "      <td>11</td>\n",
              "    </tr>\n",
              "    <tr>\n",
              "      <th>1</th>\n",
              "      <td>Шаблон А</td>\n",
              "      <td>до 27</td>\n",
              "      <td>М</td>\n",
              "      <td>229</td>\n",
              "      <td>32</td>\n",
              "      <td>2</td>\n",
              "      <td>4</td>\n",
              "    </tr>\n",
              "    <tr>\n",
              "      <th>2</th>\n",
              "      <td>Шаблон А</td>\n",
              "      <td>от 28 до 40</td>\n",
              "      <td>Ж</td>\n",
              "      <td>4236</td>\n",
              "      <td>761</td>\n",
              "      <td>72</td>\n",
              "      <td>155</td>\n",
              "    </tr>\n",
              "    <tr>\n",
              "      <th>3</th>\n",
              "      <td>Шаблон А</td>\n",
              "      <td>от 28 до 40</td>\n",
              "      <td>М</td>\n",
              "      <td>2959</td>\n",
              "      <td>706</td>\n",
              "      <td>69</td>\n",
              "      <td>122</td>\n",
              "    </tr>\n",
              "    <tr>\n",
              "      <th>4</th>\n",
              "      <td>Шаблон А</td>\n",
              "      <td>от 41</td>\n",
              "      <td>Ж</td>\n",
              "      <td>1094</td>\n",
              "      <td>217</td>\n",
              "      <td>19</td>\n",
              "      <td>39</td>\n",
              "    </tr>\n",
              "    <tr>\n",
              "      <th>5</th>\n",
              "      <td>Шаблон А</td>\n",
              "      <td>от 41</td>\n",
              "      <td>М</td>\n",
              "      <td>875</td>\n",
              "      <td>262</td>\n",
              "      <td>24</td>\n",
              "      <td>51</td>\n",
              "    </tr>\n",
              "    <tr>\n",
              "      <th>6</th>\n",
              "      <td>Шаблон Б</td>\n",
              "      <td>до 27</td>\n",
              "      <td>Ж</td>\n",
              "      <td>865</td>\n",
              "      <td>63</td>\n",
              "      <td>8</td>\n",
              "      <td>12</td>\n",
              "    </tr>\n",
              "    <tr>\n",
              "      <th>7</th>\n",
              "      <td>Шаблон Б</td>\n",
              "      <td>до 27</td>\n",
              "      <td>М</td>\n",
              "      <td>313</td>\n",
              "      <td>23</td>\n",
              "      <td>5</td>\n",
              "      <td>4</td>\n",
              "    </tr>\n",
              "    <tr>\n",
              "      <th>8</th>\n",
              "      <td>Шаблон Б</td>\n",
              "      <td>от 28 до 40</td>\n",
              "      <td>Ж</td>\n",
              "      <td>5534</td>\n",
              "      <td>677</td>\n",
              "      <td>59</td>\n",
              "      <td>149</td>\n",
              "    </tr>\n",
              "    <tr>\n",
              "      <th>9</th>\n",
              "      <td>Шаблон Б</td>\n",
              "      <td>от 28 до 40</td>\n",
              "      <td>М</td>\n",
              "      <td>3721</td>\n",
              "      <td>632</td>\n",
              "      <td>65</td>\n",
              "      <td>123</td>\n",
              "    </tr>\n",
              "    <tr>\n",
              "      <th>10</th>\n",
              "      <td>Шаблон Б</td>\n",
              "      <td>от 41</td>\n",
              "      <td>Ж</td>\n",
              "      <td>1393</td>\n",
              "      <td>219</td>\n",
              "      <td>14</td>\n",
              "      <td>50</td>\n",
              "    </tr>\n",
              "    <tr>\n",
              "      <th>11</th>\n",
              "      <td>Шаблон Б</td>\n",
              "      <td>от 41</td>\n",
              "      <td>М</td>\n",
              "      <td>1158</td>\n",
              "      <td>261</td>\n",
              "      <td>16</td>\n",
              "      <td>52</td>\n",
              "    </tr>\n",
              "  </tbody>\n",
              "</table>\n",
              "</div>"
            ],
            "text/plain": [
              "       Макет       Группа Пол  Доставлено  Открыто  Отписки  Переход по ссылке\n",
              "0   Шаблон А        до 27   Ж         630       87        5                 11\n",
              "1   Шаблон А        до 27   М         229       32        2                  4\n",
              "2   Шаблон А  от 28 до 40   Ж        4236      761       72                155\n",
              "3   Шаблон А  от 28 до 40   М        2959      706       69                122\n",
              "4   Шаблон А        от 41   Ж        1094      217       19                 39\n",
              "5   Шаблон А        от 41   М         875      262       24                 51\n",
              "6   Шаблон Б        до 27   Ж         865       63        8                 12\n",
              "7   Шаблон Б        до 27   М         313       23        5                  4\n",
              "8   Шаблон Б  от 28 до 40   Ж        5534      677       59                149\n",
              "9   Шаблон Б  от 28 до 40   М        3721      632       65                123\n",
              "10  Шаблон Б        от 41   Ж        1393      219       14                 50\n",
              "11  Шаблон Б        от 41   М        1158      261       16                 52"
            ]
          },
          "metadata": {
            "tags": []
          },
          "execution_count": 30
        }
      ]
    },
    {
      "cell_type": "code",
      "metadata": {
        "id": "FFjwNw8O7kYY"
      },
      "source": [
        "# таблица распределения по макету\n",
        "con = df_full.groupby(['Макет']).agg('sum').reset_index()"
      ],
      "execution_count": null,
      "outputs": []
    },
    {
      "cell_type": "code",
      "metadata": {
        "id": "90ZM8paeh8Od"
      },
      "source": [
        "# таблица распределения по возрасту\n",
        "con_age = df_full.groupby(['Группа']).agg('sum').reset_index()"
      ],
      "execution_count": null,
      "outputs": []
    },
    {
      "cell_type": "code",
      "metadata": {
        "id": "U41HF9jUgWav"
      },
      "source": [
        "# таблица распределения по полу\n",
        "con_gender = df_full.groupby(['Пол']).agg('sum').reset_index()"
      ],
      "execution_count": null,
      "outputs": []
    },
    {
      "cell_type": "code",
      "metadata": {
        "id": "jq9ZrypErUaQ"
      },
      "source": [
        "# функция расчета долей\n",
        "def per_val(df):\n",
        "  df['Открыто/Доставлено, %'] = round(df.iloc[:,2] / df.iloc[:,1], 3) * 100\n",
        "  df['Отписки/Доставлено, %'] = round(df.iloc[:,3] / df.iloc[:,1], 3) * 100\n",
        "  df['Переход по ссылке/Доставлено, %'] = round(df.iloc[:,4] / df.iloc[:,1], 3) * 100"
      ],
      "execution_count": null,
      "outputs": []
    },
    {
      "cell_type": "code",
      "metadata": {
        "id": "ibgLMQbjp5G-"
      },
      "source": [
        "per_val(con)\n",
        "per_val(con_age)\n",
        "per_val(con_gender)"
      ],
      "execution_count": null,
      "outputs": []
    },
    {
      "cell_type": "code",
      "metadata": {
        "colab": {
          "base_uri": "https://localhost:8080/",
          "height": 106
        },
        "id": "aiHvU06DlU0G",
        "outputId": "be2d8e79-cd2d-408d-dec2-0eaa236eccfd"
      },
      "source": [
        "con"
      ],
      "execution_count": null,
      "outputs": [
        {
          "output_type": "execute_result",
          "data": {
            "text/html": [
              "<div>\n",
              "<style scoped>\n",
              "    .dataframe tbody tr th:only-of-type {\n",
              "        vertical-align: middle;\n",
              "    }\n",
              "\n",
              "    .dataframe tbody tr th {\n",
              "        vertical-align: top;\n",
              "    }\n",
              "\n",
              "    .dataframe thead th {\n",
              "        text-align: right;\n",
              "    }\n",
              "</style>\n",
              "<table border=\"1\" class=\"dataframe\">\n",
              "  <thead>\n",
              "    <tr style=\"text-align: right;\">\n",
              "      <th></th>\n",
              "      <th>Макет</th>\n",
              "      <th>Доставлено</th>\n",
              "      <th>Открыто</th>\n",
              "      <th>Отписки</th>\n",
              "      <th>Переход по ссылке</th>\n",
              "      <th>Открыто/Доставлено, %</th>\n",
              "      <th>Отписки/Доставлено, %</th>\n",
              "      <th>Переход по ссылке/Доставлено, %</th>\n",
              "    </tr>\n",
              "  </thead>\n",
              "  <tbody>\n",
              "    <tr>\n",
              "      <th>0</th>\n",
              "      <td>Шаблон А</td>\n",
              "      <td>10023</td>\n",
              "      <td>2065</td>\n",
              "      <td>191</td>\n",
              "      <td>382</td>\n",
              "      <td>20.6</td>\n",
              "      <td>1.9</td>\n",
              "      <td>3.8</td>\n",
              "    </tr>\n",
              "    <tr>\n",
              "      <th>1</th>\n",
              "      <td>Шаблон Б</td>\n",
              "      <td>12984</td>\n",
              "      <td>1875</td>\n",
              "      <td>167</td>\n",
              "      <td>390</td>\n",
              "      <td>14.4</td>\n",
              "      <td>1.3</td>\n",
              "      <td>3.0</td>\n",
              "    </tr>\n",
              "  </tbody>\n",
              "</table>\n",
              "</div>"
            ],
            "text/plain": [
              "      Макет  Доставлено  ...  Отписки/Доставлено, %  Переход по ссылке/Доставлено, %\n",
              "0  Шаблон А       10023  ...                    1.9                              3.8\n",
              "1  Шаблон Б       12984  ...                    1.3                              3.0\n",
              "\n",
              "[2 rows x 8 columns]"
            ]
          },
          "metadata": {
            "tags": []
          },
          "execution_count": 36
        }
      ]
    },
    {
      "cell_type": "markdown",
      "metadata": {
        "id": "NOEIaw7A8pE5"
      },
      "source": [
        "Конверсия в переходы по ссылки из письма выше у писем по Шаблону А.  \n",
        "Доля открытых писем и отписок выше в Шаблоне А. "
      ]
    },
    {
      "cell_type": "markdown",
      "metadata": {
        "id": "dpir0ybQ5g-t"
      },
      "source": [
        "### Распределение по возрасту"
      ]
    },
    {
      "cell_type": "code",
      "metadata": {
        "colab": {
          "base_uri": "https://localhost:8080/",
          "height": 136
        },
        "id": "9fL4gZ65HGCo",
        "outputId": "4de6c223-425c-4ef6-e6e1-93063b8b064f"
      },
      "source": [
        "# общее распределение по возрасту\n",
        "con_age"
      ],
      "execution_count": null,
      "outputs": [
        {
          "output_type": "execute_result",
          "data": {
            "text/html": [
              "<div>\n",
              "<style scoped>\n",
              "    .dataframe tbody tr th:only-of-type {\n",
              "        vertical-align: middle;\n",
              "    }\n",
              "\n",
              "    .dataframe tbody tr th {\n",
              "        vertical-align: top;\n",
              "    }\n",
              "\n",
              "    .dataframe thead th {\n",
              "        text-align: right;\n",
              "    }\n",
              "</style>\n",
              "<table border=\"1\" class=\"dataframe\">\n",
              "  <thead>\n",
              "    <tr style=\"text-align: right;\">\n",
              "      <th></th>\n",
              "      <th>Группа</th>\n",
              "      <th>Доставлено</th>\n",
              "      <th>Открыто</th>\n",
              "      <th>Отписки</th>\n",
              "      <th>Переход по ссылке</th>\n",
              "      <th>Открыто/Доставлено, %</th>\n",
              "      <th>Отписки/Доставлено, %</th>\n",
              "      <th>Переход по ссылке/Доставлено, %</th>\n",
              "    </tr>\n",
              "  </thead>\n",
              "  <tbody>\n",
              "    <tr>\n",
              "      <th>0</th>\n",
              "      <td>до 27</td>\n",
              "      <td>2037</td>\n",
              "      <td>205</td>\n",
              "      <td>20</td>\n",
              "      <td>31</td>\n",
              "      <td>10.1</td>\n",
              "      <td>1.0</td>\n",
              "      <td>1.5</td>\n",
              "    </tr>\n",
              "    <tr>\n",
              "      <th>1</th>\n",
              "      <td>от 28 до 40</td>\n",
              "      <td>16450</td>\n",
              "      <td>2776</td>\n",
              "      <td>265</td>\n",
              "      <td>549</td>\n",
              "      <td>16.9</td>\n",
              "      <td>1.6</td>\n",
              "      <td>3.3</td>\n",
              "    </tr>\n",
              "    <tr>\n",
              "      <th>2</th>\n",
              "      <td>от 41</td>\n",
              "      <td>4520</td>\n",
              "      <td>959</td>\n",
              "      <td>73</td>\n",
              "      <td>192</td>\n",
              "      <td>21.2</td>\n",
              "      <td>1.6</td>\n",
              "      <td>4.2</td>\n",
              "    </tr>\n",
              "  </tbody>\n",
              "</table>\n",
              "</div>"
            ],
            "text/plain": [
              "        Группа  ...  Переход по ссылке/Доставлено, %\n",
              "0        до 27  ...                              1.5\n",
              "1  от 28 до 40  ...                              3.3\n",
              "2        от 41  ...                              4.2\n",
              "\n",
              "[3 rows x 8 columns]"
            ]
          },
          "metadata": {
            "tags": []
          },
          "execution_count": 37
        }
      ]
    },
    {
      "cell_type": "code",
      "metadata": {
        "colab": {
          "base_uri": "https://localhost:8080/",
          "height": 136
        },
        "id": "rwxDhOVLtttW",
        "outputId": "88e5c173-8c4e-4756-e316-dd845f17c425"
      },
      "source": [
        "# распределение по возрасту для письма Шаблона А\n",
        "con_age_A = df_full[df_full['Макет'] == 'Шаблон А'].groupby(['Группа']).agg('sum').reset_index()\n",
        "per_val(con_age_A)\n",
        "con_age_A"
      ],
      "execution_count": null,
      "outputs": [
        {
          "output_type": "execute_result",
          "data": {
            "text/html": [
              "<div>\n",
              "<style scoped>\n",
              "    .dataframe tbody tr th:only-of-type {\n",
              "        vertical-align: middle;\n",
              "    }\n",
              "\n",
              "    .dataframe tbody tr th {\n",
              "        vertical-align: top;\n",
              "    }\n",
              "\n",
              "    .dataframe thead th {\n",
              "        text-align: right;\n",
              "    }\n",
              "</style>\n",
              "<table border=\"1\" class=\"dataframe\">\n",
              "  <thead>\n",
              "    <tr style=\"text-align: right;\">\n",
              "      <th></th>\n",
              "      <th>Группа</th>\n",
              "      <th>Доставлено</th>\n",
              "      <th>Открыто</th>\n",
              "      <th>Отписки</th>\n",
              "      <th>Переход по ссылке</th>\n",
              "      <th>Открыто/Доставлено, %</th>\n",
              "      <th>Отписки/Доставлено, %</th>\n",
              "      <th>Переход по ссылке/Доставлено, %</th>\n",
              "    </tr>\n",
              "  </thead>\n",
              "  <tbody>\n",
              "    <tr>\n",
              "      <th>0</th>\n",
              "      <td>до 27</td>\n",
              "      <td>859</td>\n",
              "      <td>119</td>\n",
              "      <td>7</td>\n",
              "      <td>15</td>\n",
              "      <td>13.9</td>\n",
              "      <td>0.8</td>\n",
              "      <td>1.7</td>\n",
              "    </tr>\n",
              "    <tr>\n",
              "      <th>1</th>\n",
              "      <td>от 28 до 40</td>\n",
              "      <td>7195</td>\n",
              "      <td>1467</td>\n",
              "      <td>141</td>\n",
              "      <td>277</td>\n",
              "      <td>20.4</td>\n",
              "      <td>2.0</td>\n",
              "      <td>3.8</td>\n",
              "    </tr>\n",
              "    <tr>\n",
              "      <th>2</th>\n",
              "      <td>от 41</td>\n",
              "      <td>1969</td>\n",
              "      <td>479</td>\n",
              "      <td>43</td>\n",
              "      <td>90</td>\n",
              "      <td>24.3</td>\n",
              "      <td>2.2</td>\n",
              "      <td>4.6</td>\n",
              "    </tr>\n",
              "  </tbody>\n",
              "</table>\n",
              "</div>"
            ],
            "text/plain": [
              "        Группа  ...  Переход по ссылке/Доставлено, %\n",
              "0        до 27  ...                              1.7\n",
              "1  от 28 до 40  ...                              3.8\n",
              "2        от 41  ...                              4.6\n",
              "\n",
              "[3 rows x 8 columns]"
            ]
          },
          "metadata": {
            "tags": []
          },
          "execution_count": 38
        }
      ]
    },
    {
      "cell_type": "code",
      "metadata": {
        "colab": {
          "base_uri": "https://localhost:8080/",
          "height": 136
        },
        "id": "-iVRTwFZwS-D",
        "outputId": "b566126f-741a-4f7f-8f53-75f965271920"
      },
      "source": [
        "# распределение по возрасту для письма Шаблона Б\n",
        "con_age_B = df_full[df_full['Макет'] == 'Шаблон Б'].groupby(['Группа']).agg('sum').reset_index()\n",
        "per_val(con_age_B)\n",
        "con_age_B"
      ],
      "execution_count": null,
      "outputs": [
        {
          "output_type": "execute_result",
          "data": {
            "text/html": [
              "<div>\n",
              "<style scoped>\n",
              "    .dataframe tbody tr th:only-of-type {\n",
              "        vertical-align: middle;\n",
              "    }\n",
              "\n",
              "    .dataframe tbody tr th {\n",
              "        vertical-align: top;\n",
              "    }\n",
              "\n",
              "    .dataframe thead th {\n",
              "        text-align: right;\n",
              "    }\n",
              "</style>\n",
              "<table border=\"1\" class=\"dataframe\">\n",
              "  <thead>\n",
              "    <tr style=\"text-align: right;\">\n",
              "      <th></th>\n",
              "      <th>Группа</th>\n",
              "      <th>Доставлено</th>\n",
              "      <th>Открыто</th>\n",
              "      <th>Отписки</th>\n",
              "      <th>Переход по ссылке</th>\n",
              "      <th>Открыто/Доставлено, %</th>\n",
              "      <th>Отписки/Доставлено, %</th>\n",
              "      <th>Переход по ссылке/Доставлено, %</th>\n",
              "    </tr>\n",
              "  </thead>\n",
              "  <tbody>\n",
              "    <tr>\n",
              "      <th>0</th>\n",
              "      <td>до 27</td>\n",
              "      <td>1178</td>\n",
              "      <td>86</td>\n",
              "      <td>13</td>\n",
              "      <td>16</td>\n",
              "      <td>7.3</td>\n",
              "      <td>1.1</td>\n",
              "      <td>1.4</td>\n",
              "    </tr>\n",
              "    <tr>\n",
              "      <th>1</th>\n",
              "      <td>от 28 до 40</td>\n",
              "      <td>9255</td>\n",
              "      <td>1309</td>\n",
              "      <td>124</td>\n",
              "      <td>272</td>\n",
              "      <td>14.1</td>\n",
              "      <td>1.3</td>\n",
              "      <td>2.9</td>\n",
              "    </tr>\n",
              "    <tr>\n",
              "      <th>2</th>\n",
              "      <td>от 41</td>\n",
              "      <td>2551</td>\n",
              "      <td>480</td>\n",
              "      <td>30</td>\n",
              "      <td>102</td>\n",
              "      <td>18.8</td>\n",
              "      <td>1.2</td>\n",
              "      <td>4.0</td>\n",
              "    </tr>\n",
              "  </tbody>\n",
              "</table>\n",
              "</div>"
            ],
            "text/plain": [
              "        Группа  ...  Переход по ссылке/Доставлено, %\n",
              "0        до 27  ...                              1.4\n",
              "1  от 28 до 40  ...                              2.9\n",
              "2        от 41  ...                              4.0\n",
              "\n",
              "[3 rows x 8 columns]"
            ]
          },
          "metadata": {
            "tags": []
          },
          "execution_count": 39
        }
      ]
    },
    {
      "cell_type": "markdown",
      "metadata": {
        "id": "kXG4fy8h8mBY"
      },
      "source": [
        "Наиболее чаще открывают письма сегмент клиентов возраста \"от 41\".  \n",
        "Реже всего отписываются клиенты сегмента \"до 27\". Сегменты \"от 28 до 40\" и \" от 41\" отписываются примерно в равных долях.  \n",
        "Доля переход по ссылке, чаще осуществляют клиенты сегмента \"от 41\".  \n",
        "Доля переходов по ссылке у шаблона Б, существенно снижается по сравнению с аналогичной возрастной группой для шаблона А."
      ]
    },
    {
      "cell_type": "markdown",
      "metadata": {
        "id": "IT5C57JZ58lr"
      },
      "source": [
        "### Распределение по полу"
      ]
    },
    {
      "cell_type": "code",
      "metadata": {
        "colab": {
          "base_uri": "https://localhost:8080/",
          "height": 106
        },
        "id": "cEaUXFtNswYx",
        "outputId": "2abdc5fc-b290-4fca-db0d-87135261a7cd"
      },
      "source": [
        "con_gender"
      ],
      "execution_count": null,
      "outputs": [
        {
          "output_type": "execute_result",
          "data": {
            "text/html": [
              "<div>\n",
              "<style scoped>\n",
              "    .dataframe tbody tr th:only-of-type {\n",
              "        vertical-align: middle;\n",
              "    }\n",
              "\n",
              "    .dataframe tbody tr th {\n",
              "        vertical-align: top;\n",
              "    }\n",
              "\n",
              "    .dataframe thead th {\n",
              "        text-align: right;\n",
              "    }\n",
              "</style>\n",
              "<table border=\"1\" class=\"dataframe\">\n",
              "  <thead>\n",
              "    <tr style=\"text-align: right;\">\n",
              "      <th></th>\n",
              "      <th>Пол</th>\n",
              "      <th>Доставлено</th>\n",
              "      <th>Открыто</th>\n",
              "      <th>Отписки</th>\n",
              "      <th>Переход по ссылке</th>\n",
              "      <th>Открыто/Доставлено, %</th>\n",
              "      <th>Отписки/Доставлено, %</th>\n",
              "      <th>Переход по ссылке/Доставлено, %</th>\n",
              "    </tr>\n",
              "  </thead>\n",
              "  <tbody>\n",
              "    <tr>\n",
              "      <th>0</th>\n",
              "      <td>Ж</td>\n",
              "      <td>13752</td>\n",
              "      <td>2024</td>\n",
              "      <td>177</td>\n",
              "      <td>416</td>\n",
              "      <td>14.7</td>\n",
              "      <td>1.3</td>\n",
              "      <td>3.0</td>\n",
              "    </tr>\n",
              "    <tr>\n",
              "      <th>1</th>\n",
              "      <td>М</td>\n",
              "      <td>9255</td>\n",
              "      <td>1916</td>\n",
              "      <td>181</td>\n",
              "      <td>356</td>\n",
              "      <td>20.7</td>\n",
              "      <td>2.0</td>\n",
              "      <td>3.8</td>\n",
              "    </tr>\n",
              "  </tbody>\n",
              "</table>\n",
              "</div>"
            ],
            "text/plain": [
              "  Пол  Доставлено  ...  Отписки/Доставлено, %  Переход по ссылке/Доставлено, %\n",
              "0   Ж       13752  ...                    1.3                              3.0\n",
              "1   М        9255  ...                    2.0                              3.8\n",
              "\n",
              "[2 rows x 8 columns]"
            ]
          },
          "metadata": {
            "tags": []
          },
          "execution_count": 40
        }
      ]
    },
    {
      "cell_type": "code",
      "metadata": {
        "colab": {
          "base_uri": "https://localhost:8080/",
          "height": 106
        },
        "id": "9l0ASa3pwYwf",
        "outputId": "54d1917a-9efd-4c8f-b249-8dd5c503baf7"
      },
      "source": [
        "con_gender_A = df_full[df_full['Макет'] == 'Шаблон А'].groupby(['Пол']).agg('sum').reset_index()\n",
        "per_val(con_gender_A)\n",
        "con_gender_A"
      ],
      "execution_count": null,
      "outputs": [
        {
          "output_type": "execute_result",
          "data": {
            "text/html": [
              "<div>\n",
              "<style scoped>\n",
              "    .dataframe tbody tr th:only-of-type {\n",
              "        vertical-align: middle;\n",
              "    }\n",
              "\n",
              "    .dataframe tbody tr th {\n",
              "        vertical-align: top;\n",
              "    }\n",
              "\n",
              "    .dataframe thead th {\n",
              "        text-align: right;\n",
              "    }\n",
              "</style>\n",
              "<table border=\"1\" class=\"dataframe\">\n",
              "  <thead>\n",
              "    <tr style=\"text-align: right;\">\n",
              "      <th></th>\n",
              "      <th>Пол</th>\n",
              "      <th>Доставлено</th>\n",
              "      <th>Открыто</th>\n",
              "      <th>Отписки</th>\n",
              "      <th>Переход по ссылке</th>\n",
              "      <th>Открыто/Доставлено, %</th>\n",
              "      <th>Отписки/Доставлено, %</th>\n",
              "      <th>Переход по ссылке/Доставлено, %</th>\n",
              "    </tr>\n",
              "  </thead>\n",
              "  <tbody>\n",
              "    <tr>\n",
              "      <th>0</th>\n",
              "      <td>Ж</td>\n",
              "      <td>5960</td>\n",
              "      <td>1065</td>\n",
              "      <td>96</td>\n",
              "      <td>205</td>\n",
              "      <td>17.9</td>\n",
              "      <td>1.6</td>\n",
              "      <td>3.4</td>\n",
              "    </tr>\n",
              "    <tr>\n",
              "      <th>1</th>\n",
              "      <td>М</td>\n",
              "      <td>4063</td>\n",
              "      <td>1000</td>\n",
              "      <td>95</td>\n",
              "      <td>177</td>\n",
              "      <td>24.6</td>\n",
              "      <td>2.3</td>\n",
              "      <td>4.4</td>\n",
              "    </tr>\n",
              "  </tbody>\n",
              "</table>\n",
              "</div>"
            ],
            "text/plain": [
              "  Пол  Доставлено  ...  Отписки/Доставлено, %  Переход по ссылке/Доставлено, %\n",
              "0   Ж        5960  ...                    1.6                              3.4\n",
              "1   М        4063  ...                    2.3                              4.4\n",
              "\n",
              "[2 rows x 8 columns]"
            ]
          },
          "metadata": {
            "tags": []
          },
          "execution_count": 41
        }
      ]
    },
    {
      "cell_type": "code",
      "metadata": {
        "colab": {
          "base_uri": "https://localhost:8080/",
          "height": 106
        },
        "id": "oDOQB5SmwmIe",
        "outputId": "b869e51c-dcc4-43ab-a0d5-48531d4b4bcb"
      },
      "source": [
        "con_gender_B = df_full[df_full['Макет'] == 'Шаблон Б'].groupby(['Пол']).agg('sum').reset_index()\n",
        "per_val(con_gender_B)\n",
        "con_gender_B"
      ],
      "execution_count": null,
      "outputs": [
        {
          "output_type": "execute_result",
          "data": {
            "text/html": [
              "<div>\n",
              "<style scoped>\n",
              "    .dataframe tbody tr th:only-of-type {\n",
              "        vertical-align: middle;\n",
              "    }\n",
              "\n",
              "    .dataframe tbody tr th {\n",
              "        vertical-align: top;\n",
              "    }\n",
              "\n",
              "    .dataframe thead th {\n",
              "        text-align: right;\n",
              "    }\n",
              "</style>\n",
              "<table border=\"1\" class=\"dataframe\">\n",
              "  <thead>\n",
              "    <tr style=\"text-align: right;\">\n",
              "      <th></th>\n",
              "      <th>Пол</th>\n",
              "      <th>Доставлено</th>\n",
              "      <th>Открыто</th>\n",
              "      <th>Отписки</th>\n",
              "      <th>Переход по ссылке</th>\n",
              "      <th>Открыто/Доставлено, %</th>\n",
              "      <th>Отписки/Доставлено, %</th>\n",
              "      <th>Переход по ссылке/Доставлено, %</th>\n",
              "    </tr>\n",
              "  </thead>\n",
              "  <tbody>\n",
              "    <tr>\n",
              "      <th>0</th>\n",
              "      <td>Ж</td>\n",
              "      <td>7792</td>\n",
              "      <td>959</td>\n",
              "      <td>81</td>\n",
              "      <td>211</td>\n",
              "      <td>12.3</td>\n",
              "      <td>1.0</td>\n",
              "      <td>2.7</td>\n",
              "    </tr>\n",
              "    <tr>\n",
              "      <th>1</th>\n",
              "      <td>М</td>\n",
              "      <td>5192</td>\n",
              "      <td>916</td>\n",
              "      <td>86</td>\n",
              "      <td>179</td>\n",
              "      <td>17.6</td>\n",
              "      <td>1.7</td>\n",
              "      <td>3.4</td>\n",
              "    </tr>\n",
              "  </tbody>\n",
              "</table>\n",
              "</div>"
            ],
            "text/plain": [
              "  Пол  Доставлено  ...  Отписки/Доставлено, %  Переход по ссылке/Доставлено, %\n",
              "0   Ж        7792  ...                    1.0                              2.7\n",
              "1   М        5192  ...                    1.7                              3.4\n",
              "\n",
              "[2 rows x 8 columns]"
            ]
          },
          "metadata": {
            "tags": []
          },
          "execution_count": 42
        }
      ]
    },
    {
      "cell_type": "markdown",
      "metadata": {
        "id": "1LlSBDjVATpq"
      },
      "source": [
        "Мужчины чаще открывают письма, переходят по ссылке и отписываются.  \n"
      ]
    },
    {
      "cell_type": "markdown",
      "metadata": {
        "id": "FR4Ni7_RAX0g"
      },
      "source": [
        "## Воронки конверсии по доставленым письмам"
      ]
    },
    {
      "cell_type": "markdown",
      "metadata": {
        "id": "VZ1vS_Qkdcon"
      },
      "source": [
        "- open_rate - открытые письма/доставленные\n",
        "- click_rate - переходы по ссылке/доставленные"
      ]
    },
    {
      "cell_type": "code",
      "metadata": {
        "id": "eKfhqY3b-DJW"
      },
      "source": [
        "hopper = df_full.groupby(['Макет']).agg('sum').drop(['Отписки'], axis=1)"
      ],
      "execution_count": null,
      "outputs": []
    },
    {
      "cell_type": "markdown",
      "metadata": {
        "id": "wNd0OmGqAg0K"
      },
      "source": [
        "### Шаблон А"
      ]
    },
    {
      "cell_type": "code",
      "metadata": {
        "id": "p3jm5sXJ97GQ"
      },
      "source": [
        "con_a = hopper.drop(['Шаблон Б']).melt()"
      ],
      "execution_count": null,
      "outputs": []
    },
    {
      "cell_type": "code",
      "metadata": {
        "id": "N_B5cUyiAzWM"
      },
      "source": [
        "con_a['Конверсия итоговая, %'] = round(con_a['value'] / con_a['value'].max() * 100, 1)"
      ],
      "execution_count": null,
      "outputs": []
    },
    {
      "cell_type": "code",
      "metadata": {
        "id": "ACKfOQusBLja"
      },
      "source": [
        "con_a['Конверсия в следующий шаг, %'] = round((con_a['value'] / con_a['value'].shift()*100).fillna(100), 1)"
      ],
      "execution_count": null,
      "outputs": []
    },
    {
      "cell_type": "code",
      "metadata": {
        "colab": {
          "base_uri": "https://localhost:8080/",
          "height": 136
        },
        "id": "_plm48rdLtEP",
        "outputId": "2f16e07b-5feb-4e24-fd80-b8eff977974d"
      },
      "source": [
        "con_a"
      ],
      "execution_count": null,
      "outputs": [
        {
          "output_type": "execute_result",
          "data": {
            "text/html": [
              "<div>\n",
              "<style scoped>\n",
              "    .dataframe tbody tr th:only-of-type {\n",
              "        vertical-align: middle;\n",
              "    }\n",
              "\n",
              "    .dataframe tbody tr th {\n",
              "        vertical-align: top;\n",
              "    }\n",
              "\n",
              "    .dataframe thead th {\n",
              "        text-align: right;\n",
              "    }\n",
              "</style>\n",
              "<table border=\"1\" class=\"dataframe\">\n",
              "  <thead>\n",
              "    <tr style=\"text-align: right;\">\n",
              "      <th></th>\n",
              "      <th>variable</th>\n",
              "      <th>value</th>\n",
              "      <th>Конверсия итоговая, %</th>\n",
              "      <th>Конверсия в следующий шаг, %</th>\n",
              "    </tr>\n",
              "  </thead>\n",
              "  <tbody>\n",
              "    <tr>\n",
              "      <th>0</th>\n",
              "      <td>Доставлено</td>\n",
              "      <td>10023</td>\n",
              "      <td>100.0</td>\n",
              "      <td>100.0</td>\n",
              "    </tr>\n",
              "    <tr>\n",
              "      <th>1</th>\n",
              "      <td>Открыто</td>\n",
              "      <td>2065</td>\n",
              "      <td>20.6</td>\n",
              "      <td>20.6</td>\n",
              "    </tr>\n",
              "    <tr>\n",
              "      <th>2</th>\n",
              "      <td>Переход по ссылке</td>\n",
              "      <td>382</td>\n",
              "      <td>3.8</td>\n",
              "      <td>18.5</td>\n",
              "    </tr>\n",
              "  </tbody>\n",
              "</table>\n",
              "</div>"
            ],
            "text/plain": [
              "            variable  ...  Конверсия в следующий шаг, %\n",
              "0         Доставлено  ...                         100.0\n",
              "1            Открыто  ...                          20.6\n",
              "2  Переход по ссылке  ...                          18.5\n",
              "\n",
              "[3 rows x 4 columns]"
            ]
          },
          "metadata": {
            "tags": []
          },
          "execution_count": 47
        }
      ]
    },
    {
      "cell_type": "code",
      "metadata": {
        "colab": {
          "base_uri": "https://localhost:8080/"
        },
        "id": "pcyAP3_2Y_4D",
        "outputId": "a7929bd7-8b3a-4308-e1e1-717e45149c49"
      },
      "source": [
        "print(f'open_rate шаблона А: {con_a.iloc[1,2]}%', f'click_rate шаблона А: {con_a.iloc[2,2]}%', sep='\\n')"
      ],
      "execution_count": null,
      "outputs": [
        {
          "output_type": "stream",
          "text": [
            "open_rate шаблона А: 20.6%\n",
            "click_rate шаблона А: 3.8%\n"
          ],
          "name": "stdout"
        }
      ]
    },
    {
      "cell_type": "markdown",
      "metadata": {
        "id": "9xOSkzJrAkDC"
      },
      "source": [
        "### Шаблон Б"
      ]
    },
    {
      "cell_type": "code",
      "metadata": {
        "id": "hWr5kYi0-5Vy"
      },
      "source": [
        "con_b = hopper.drop(['Шаблон А']).melt()"
      ],
      "execution_count": null,
      "outputs": []
    },
    {
      "cell_type": "code",
      "metadata": {
        "id": "5ROhihGZNGJF"
      },
      "source": [
        "con_b['Конверсия итоговая, %'] = round(con_b['value'] / con_b['value'].max() * 100, 1)"
      ],
      "execution_count": null,
      "outputs": []
    },
    {
      "cell_type": "code",
      "metadata": {
        "id": "0xpAW4hyNGJO"
      },
      "source": [
        "con_b['Конверсия в следующий шаг, %'] = round((con_b['value'] / con_b['value'].shift()*100).fillna(100), 1)"
      ],
      "execution_count": null,
      "outputs": []
    },
    {
      "cell_type": "code",
      "metadata": {
        "colab": {
          "base_uri": "https://localhost:8080/",
          "height": 136
        },
        "id": "ZYYn0QaKBnDp",
        "outputId": "f16b16df-55ed-4fd3-fa95-7faeafaa65dc"
      },
      "source": [
        "con_b"
      ],
      "execution_count": null,
      "outputs": [
        {
          "output_type": "execute_result",
          "data": {
            "text/html": [
              "<div>\n",
              "<style scoped>\n",
              "    .dataframe tbody tr th:only-of-type {\n",
              "        vertical-align: middle;\n",
              "    }\n",
              "\n",
              "    .dataframe tbody tr th {\n",
              "        vertical-align: top;\n",
              "    }\n",
              "\n",
              "    .dataframe thead th {\n",
              "        text-align: right;\n",
              "    }\n",
              "</style>\n",
              "<table border=\"1\" class=\"dataframe\">\n",
              "  <thead>\n",
              "    <tr style=\"text-align: right;\">\n",
              "      <th></th>\n",
              "      <th>variable</th>\n",
              "      <th>value</th>\n",
              "      <th>Конверсия итоговая, %</th>\n",
              "      <th>Конверсия в следующий шаг, %</th>\n",
              "    </tr>\n",
              "  </thead>\n",
              "  <tbody>\n",
              "    <tr>\n",
              "      <th>0</th>\n",
              "      <td>Доставлено</td>\n",
              "      <td>12984</td>\n",
              "      <td>100.0</td>\n",
              "      <td>100.0</td>\n",
              "    </tr>\n",
              "    <tr>\n",
              "      <th>1</th>\n",
              "      <td>Открыто</td>\n",
              "      <td>1875</td>\n",
              "      <td>14.4</td>\n",
              "      <td>14.4</td>\n",
              "    </tr>\n",
              "    <tr>\n",
              "      <th>2</th>\n",
              "      <td>Переход по ссылке</td>\n",
              "      <td>390</td>\n",
              "      <td>3.0</td>\n",
              "      <td>20.8</td>\n",
              "    </tr>\n",
              "  </tbody>\n",
              "</table>\n",
              "</div>"
            ],
            "text/plain": [
              "            variable  ...  Конверсия в следующий шаг, %\n",
              "0         Доставлено  ...                         100.0\n",
              "1            Открыто  ...                          14.4\n",
              "2  Переход по ссылке  ...                          20.8\n",
              "\n",
              "[3 rows x 4 columns]"
            ]
          },
          "metadata": {
            "tags": []
          },
          "execution_count": 52
        }
      ]
    },
    {
      "cell_type": "code",
      "metadata": {
        "colab": {
          "base_uri": "https://localhost:8080/"
        },
        "id": "uEbaU9UCbxG5",
        "outputId": "29a210a0-02d8-47d8-e47e-f769f132c2b4"
      },
      "source": [
        "print(f'open_rate шаблона Б: {con_b.iloc[1,2]}%', f'click_rate шаблона Б: {con_b.iloc[2,2]}%', sep='\\n')"
      ],
      "execution_count": null,
      "outputs": [
        {
          "output_type": "stream",
          "text": [
            "open_rate шаблона Б: 14.4%\n",
            "click_rate шаблона Б: 3.0%\n"
          ],
          "name": "stdout"
        }
      ]
    },
    {
      "cell_type": "markdown",
      "metadata": {
        "id": "UhEhC5dv4lgt"
      },
      "source": [
        "## Подтверждение гипотезы"
      ]
    },
    {
      "cell_type": "markdown",
      "metadata": {
        "id": "5u5BEnX4eRl6"
      },
      "source": [
        "Выдвенем гипотезу, что между долями переходов доставленных писем для разных шаблонов разницы нет - Н0"
      ]
    },
    {
      "cell_type": "code",
      "metadata": {
        "colab": {
          "base_uri": "https://localhost:8080/"
        },
        "id": "_1zyVPM4Low1",
        "outputId": "cf8b48af-aa6e-410b-8dec-1adde79685df"
      },
      "source": [
        "alpha = 0.05\n",
        "print(f'Критический уровень статистической значимости: {alpha}')\n",
        "\n",
        "success = np.array([382,390]) # количество переходов Шаблон А, Шаблон Б\n",
        "trials = np.array([10023, 12974]) # количество доставленых писем Шаблон А, Шаблон Б\n",
        "p1 = success[0] / trials[0]\n",
        "p2 = success[1] / trials[1]\n",
        "\n",
        "print(f'Успех Шаблона А: {p1:.2f}', f'Успех Шаблона Б: {p2:.2f}', sep='\\n')\n",
        "\n",
        "p_combo = (success[0] + success[1]) / (trials[0] + trials[1])\n",
        "\n",
        "print(f'Успех Общий: {p_combo:.2f}')\n",
        "\n",
        "diff = p1-p2 #разница пропорций\n",
        "\n",
        "z_value = diff / (mth.sqrt(p_combo * (1 - p_combo) * (1/trials[0] + 1/trials[1]))) #z-статистика\n",
        "\n",
        "#вычислим p_value\n",
        "distr = st.norm(0,1) \n",
        "p_value = (1 - distr.cdf(abs(z_value))) * 2\n",
        "\n",
        "print(f'p-значение: {p_value:.4f}')\n",
        "\n",
        "if p_value < alpha:\n",
        "  print('Отвергаем нулевую гипотезу, между долями есть значимая разница')\n",
        "else:\n",
        "  print('Не получилось отвергнуть нулевую гипотезу, нет оснований считать доли разными')"
      ],
      "execution_count": null,
      "outputs": [
        {
          "output_type": "stream",
          "text": [
            "Критический уровень статистической значимости: 0.05\n",
            "Успех Шаблона А: 0.04\n",
            "Успех Шаблона Б: 0.03\n",
            "Успех Общий: 0.03\n",
            "p-значение: 0.0008\n",
            "Отвергаем нулевую гипотезу, между долями есть значимая разница\n"
          ],
          "name": "stdout"
        }
      ]
    },
    {
      "cell_type": "markdown",
      "metadata": {
        "id": "LaPBl2XSfpEF"
      },
      "source": [
        "Между **click_rate** Шаблона А и Шаблона Б, есть значимая разница. Доля переходов по ссылке в Шаблон А больше, чем в Шаблоне Б"
      ]
    },
    {
      "cell_type": "markdown",
      "metadata": {
        "id": "QQjYQINTfVIM"
      },
      "source": [
        "Аналогичный вывод подтверждается с помощью калькулятора [evanmiller.org](https://www.evanmiller.org/ab-testing/chi-squared.html#!382/10023;390/12974@99)."
      ]
    },
    {
      "cell_type": "markdown",
      "metadata": {
        "id": "4_7MG7Pu42mV"
      },
      "source": [
        "# Общий вывод"
      ]
    },
    {
      "cell_type": "markdown",
      "metadata": {
        "id": "MtIAj1cK49sY"
      },
      "source": [
        "**Подход к решению**.  \n",
        "\n",
        "Задача решалась с помощью языка python и различными библиотеками к нему. Алгоритм состоял из построения сводной таблицы, дальнейшее ее декомпозиция, подсчет соотношений для разных сегментов клиентов, проверка гипотезы.\n",
        "\n",
        "**Результаты.**  \n",
        "\n",
        "Клиенты лучше восприняли рассылку писем по Шаблону А, они чаще открывали письмо и переходили по ссылке. Но для сегментов \"от 28 до 40\" и \" от 41\" заметно увеличение доли отписок для Шаблона А.\n",
        "\n",
        "Наиболее чаще открывают письма сегмент клиентов возраста \"от 41\".  \n",
        "Реже всего отписываются клиенты сегмента \"до 27\".  \n",
        "Доля переход по ссылке, чаще осуществляют клиенты сегмента \"от 41\".  \n",
        "\n",
        "Мужчины чаще открывают письма, переходят по ссылке и отписываются.  \n",
        "\n",
        "**Шаблон А**:\n",
        "\n",
        "- open_rate шаблона А: 20.6%;\n",
        "- click_rate шаблона А: 3.8%.\n",
        "\n",
        "**Шаблон Б**:\n",
        "\n",
        "- open_rate шаблона Б: 14.4%;\n",
        "- click_rate шаблона Б: 3.0%.\n",
        "\n",
        "*Сlick_rate* Шаблона А и Шаблона Б, значимо различаются. Доля переходов по ссылке в Шаблоне А больше, чем в Шаблоне Б. \n",
        "\n",
        "**Рекомендации**:\n",
        "\n",
        "- актуализировать базу данных email адресов клиентов, кому не удалось доставить письма;\n",
        "- изучить отписавшихся клиентов. Особое внимание уделить клиентам сегмента \"от 28 до 40\" и \" от 41\" получивших письмо по Шаблону А;\n",
        "- сегмент \"от 41\" лучше реагируют на рассылки и охотнее переходит по ссылкам;\n",
        "- сегменту \"до 27\" тестово увеличить периодичность релевантных рассылок;\n",
        "- open_rate Шаблона А выше, требуется оценить темы писем;\n",
        "- проверить корректность разбивки выборок по макетам."
      ]
    }
  ]
}
